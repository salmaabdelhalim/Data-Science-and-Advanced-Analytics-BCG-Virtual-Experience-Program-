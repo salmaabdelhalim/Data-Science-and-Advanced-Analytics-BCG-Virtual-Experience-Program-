{
  "nbformat": 4,
  "nbformat_minor": 0,
  "metadata": {
    "kernelspec": {
      "display_name": "Python 3",
      "language": "python",
      "name": "python3"
    },
    "language_info": {
      "codemirror_mode": {
        "name": "ipython",
        "version": 3
      },
      "file_extension": ".py",
      "mimetype": "text/x-python",
      "name": "python",
      "nbconvert_exporter": "python",
      "pygments_lexer": "ipython3",
      "version": "3.7.4"
    },
    "colab": {
      "name": "BCG Task.ipynb",
      "provenance": [],
      "collapsed_sections": [],
      "toc_visible": true
    }
  },
  "cells": [
    {
      "cell_type": "code",
      "metadata": {
        "id": "SzCH4ry-wexC"
      },
      "source": [
        "import numpy as np\n",
        "import pandas as pd\n",
        "import matplotlib.pyplot as plt\n",
        "import seaborn as sns\n",
        "sns.set()\n",
        "%matplotlib inline"
      ],
      "execution_count": 1,
      "outputs": []
    },
    {
      "cell_type": "code",
      "metadata": {
        "id": "l5pB9-y7wexJ"
      },
      "source": [
        "df1 = pd.read_csv('ml_case_training_data.csv')\n",
        "df2 = pd.read_csv('ml_case_training_hist_data.csv')\n",
        "df3 = pd.read_csv('ml_case_training_output.csv')"
      ],
      "execution_count": 2,
      "outputs": []
    },
    {
      "cell_type": "code",
      "metadata": {
        "colab": {
          "base_uri": "https://localhost:8080/",
          "height": 299
        },
        "id": "KxNJ1pQ2wexK",
        "outputId": "b8ab948b-fb0f-4970-9d2b-511e28d8e817"
      },
      "source": [
        "df1.head()"
      ],
      "execution_count": 3,
      "outputs": [
        {
          "output_type": "execute_result",
          "data": {
            "text/html": [
              "<div>\n",
              "<style scoped>\n",
              "    .dataframe tbody tr th:only-of-type {\n",
              "        vertical-align: middle;\n",
              "    }\n",
              "\n",
              "    .dataframe tbody tr th {\n",
              "        vertical-align: top;\n",
              "    }\n",
              "\n",
              "    .dataframe thead th {\n",
              "        text-align: right;\n",
              "    }\n",
              "</style>\n",
              "<table border=\"1\" class=\"dataframe\">\n",
              "  <thead>\n",
              "    <tr style=\"text-align: right;\">\n",
              "      <th></th>\n",
              "      <th>id</th>\n",
              "      <th>activity_new</th>\n",
              "      <th>campaign_disc_ele</th>\n",
              "      <th>channel_sales</th>\n",
              "      <th>cons_12m</th>\n",
              "      <th>cons_gas_12m</th>\n",
              "      <th>cons_last_month</th>\n",
              "      <th>date_activ</th>\n",
              "      <th>date_end</th>\n",
              "      <th>date_first_activ</th>\n",
              "      <th>date_modif_prod</th>\n",
              "      <th>date_renewal</th>\n",
              "      <th>forecast_base_bill_ele</th>\n",
              "      <th>forecast_base_bill_year</th>\n",
              "      <th>forecast_bill_12m</th>\n",
              "      <th>forecast_cons</th>\n",
              "      <th>forecast_cons_12m</th>\n",
              "      <th>forecast_cons_year</th>\n",
              "      <th>forecast_discount_energy</th>\n",
              "      <th>forecast_meter_rent_12m</th>\n",
              "      <th>forecast_price_energy_p1</th>\n",
              "      <th>forecast_price_energy_p2</th>\n",
              "      <th>forecast_price_pow_p1</th>\n",
              "      <th>has_gas</th>\n",
              "      <th>imp_cons</th>\n",
              "      <th>margin_gross_pow_ele</th>\n",
              "      <th>margin_net_pow_ele</th>\n",
              "      <th>nb_prod_act</th>\n",
              "      <th>net_margin</th>\n",
              "      <th>num_years_antig</th>\n",
              "      <th>origin_up</th>\n",
              "      <th>pow_max</th>\n",
              "    </tr>\n",
              "  </thead>\n",
              "  <tbody>\n",
              "    <tr>\n",
              "      <th>0</th>\n",
              "      <td>48ada52261e7cf58715202705a0451c9</td>\n",
              "      <td>esoiiifxdlbkcsluxmfuacbdckommixw</td>\n",
              "      <td>NaN</td>\n",
              "      <td>lmkebamcaaclubfxadlmueccxoimlema</td>\n",
              "      <td>309275</td>\n",
              "      <td>0</td>\n",
              "      <td>10025</td>\n",
              "      <td>2012-11-07</td>\n",
              "      <td>2016-11-06</td>\n",
              "      <td>NaN</td>\n",
              "      <td>2012-11-07</td>\n",
              "      <td>2015-11-09</td>\n",
              "      <td>NaN</td>\n",
              "      <td>NaN</td>\n",
              "      <td>NaN</td>\n",
              "      <td>NaN</td>\n",
              "      <td>26520.30</td>\n",
              "      <td>10025</td>\n",
              "      <td>0.0</td>\n",
              "      <td>359.29</td>\n",
              "      <td>0.095919</td>\n",
              "      <td>0.088347</td>\n",
              "      <td>58.995952</td>\n",
              "      <td>f</td>\n",
              "      <td>831.8</td>\n",
              "      <td>-41.76</td>\n",
              "      <td>-41.76</td>\n",
              "      <td>1</td>\n",
              "      <td>1732.36</td>\n",
              "      <td>3</td>\n",
              "      <td>ldkssxwpmemidmecebumciepifcamkci</td>\n",
              "      <td>180.000</td>\n",
              "    </tr>\n",
              "    <tr>\n",
              "      <th>1</th>\n",
              "      <td>24011ae4ebbe3035111d65fa7c15bc57</td>\n",
              "      <td>NaN</td>\n",
              "      <td>NaN</td>\n",
              "      <td>foosdfpfkusacimwkcsosbicdxkicaua</td>\n",
              "      <td>0</td>\n",
              "      <td>54946</td>\n",
              "      <td>0</td>\n",
              "      <td>2013-06-15</td>\n",
              "      <td>2016-06-15</td>\n",
              "      <td>NaN</td>\n",
              "      <td>NaN</td>\n",
              "      <td>2015-06-23</td>\n",
              "      <td>NaN</td>\n",
              "      <td>NaN</td>\n",
              "      <td>NaN</td>\n",
              "      <td>NaN</td>\n",
              "      <td>0.00</td>\n",
              "      <td>0</td>\n",
              "      <td>0.0</td>\n",
              "      <td>1.78</td>\n",
              "      <td>0.114481</td>\n",
              "      <td>0.098142</td>\n",
              "      <td>40.606701</td>\n",
              "      <td>t</td>\n",
              "      <td>0.0</td>\n",
              "      <td>25.44</td>\n",
              "      <td>25.44</td>\n",
              "      <td>2</td>\n",
              "      <td>678.99</td>\n",
              "      <td>3</td>\n",
              "      <td>lxidpiddsbxsbosboudacockeimpuepw</td>\n",
              "      <td>43.648</td>\n",
              "    </tr>\n",
              "    <tr>\n",
              "      <th>2</th>\n",
              "      <td>d29c2c54acc38ff3c0614d0a653813dd</td>\n",
              "      <td>NaN</td>\n",
              "      <td>NaN</td>\n",
              "      <td>NaN</td>\n",
              "      <td>4660</td>\n",
              "      <td>0</td>\n",
              "      <td>0</td>\n",
              "      <td>2009-08-21</td>\n",
              "      <td>2016-08-30</td>\n",
              "      <td>NaN</td>\n",
              "      <td>2009-08-21</td>\n",
              "      <td>2015-08-31</td>\n",
              "      <td>NaN</td>\n",
              "      <td>NaN</td>\n",
              "      <td>NaN</td>\n",
              "      <td>NaN</td>\n",
              "      <td>189.95</td>\n",
              "      <td>0</td>\n",
              "      <td>0.0</td>\n",
              "      <td>16.27</td>\n",
              "      <td>0.145711</td>\n",
              "      <td>0.000000</td>\n",
              "      <td>44.311378</td>\n",
              "      <td>f</td>\n",
              "      <td>0.0</td>\n",
              "      <td>16.38</td>\n",
              "      <td>16.38</td>\n",
              "      <td>1</td>\n",
              "      <td>18.89</td>\n",
              "      <td>6</td>\n",
              "      <td>kamkkxfxxuwbdslkwifmmcsiusiuosws</td>\n",
              "      <td>13.800</td>\n",
              "    </tr>\n",
              "    <tr>\n",
              "      <th>3</th>\n",
              "      <td>764c75f661154dac3a6c254cd082ea7d</td>\n",
              "      <td>NaN</td>\n",
              "      <td>NaN</td>\n",
              "      <td>foosdfpfkusacimwkcsosbicdxkicaua</td>\n",
              "      <td>544</td>\n",
              "      <td>0</td>\n",
              "      <td>0</td>\n",
              "      <td>2010-04-16</td>\n",
              "      <td>2016-04-16</td>\n",
              "      <td>NaN</td>\n",
              "      <td>2010-04-16</td>\n",
              "      <td>2015-04-17</td>\n",
              "      <td>NaN</td>\n",
              "      <td>NaN</td>\n",
              "      <td>NaN</td>\n",
              "      <td>NaN</td>\n",
              "      <td>47.96</td>\n",
              "      <td>0</td>\n",
              "      <td>0.0</td>\n",
              "      <td>38.72</td>\n",
              "      <td>0.165794</td>\n",
              "      <td>0.087899</td>\n",
              "      <td>44.311378</td>\n",
              "      <td>f</td>\n",
              "      <td>0.0</td>\n",
              "      <td>28.60</td>\n",
              "      <td>28.60</td>\n",
              "      <td>1</td>\n",
              "      <td>6.60</td>\n",
              "      <td>6</td>\n",
              "      <td>kamkkxfxxuwbdslkwifmmcsiusiuosws</td>\n",
              "      <td>13.856</td>\n",
              "    </tr>\n",
              "    <tr>\n",
              "      <th>4</th>\n",
              "      <td>bba03439a292a1e166f80264c16191cb</td>\n",
              "      <td>NaN</td>\n",
              "      <td>NaN</td>\n",
              "      <td>lmkebamcaaclubfxadlmueccxoimlema</td>\n",
              "      <td>1584</td>\n",
              "      <td>0</td>\n",
              "      <td>0</td>\n",
              "      <td>2010-03-30</td>\n",
              "      <td>2016-03-30</td>\n",
              "      <td>NaN</td>\n",
              "      <td>2010-03-30</td>\n",
              "      <td>2015-03-31</td>\n",
              "      <td>NaN</td>\n",
              "      <td>NaN</td>\n",
              "      <td>NaN</td>\n",
              "      <td>NaN</td>\n",
              "      <td>240.04</td>\n",
              "      <td>0</td>\n",
              "      <td>0.0</td>\n",
              "      <td>19.83</td>\n",
              "      <td>0.146694</td>\n",
              "      <td>0.000000</td>\n",
              "      <td>44.311378</td>\n",
              "      <td>f</td>\n",
              "      <td>0.0</td>\n",
              "      <td>30.22</td>\n",
              "      <td>30.22</td>\n",
              "      <td>1</td>\n",
              "      <td>25.46</td>\n",
              "      <td>6</td>\n",
              "      <td>kamkkxfxxuwbdslkwifmmcsiusiuosws</td>\n",
              "      <td>13.200</td>\n",
              "    </tr>\n",
              "  </tbody>\n",
              "</table>\n",
              "</div>"
            ],
            "text/plain": [
              "                                 id  ...  pow_max\n",
              "0  48ada52261e7cf58715202705a0451c9  ...  180.000\n",
              "1  24011ae4ebbe3035111d65fa7c15bc57  ...   43.648\n",
              "2  d29c2c54acc38ff3c0614d0a653813dd  ...   13.800\n",
              "3  764c75f661154dac3a6c254cd082ea7d  ...   13.856\n",
              "4  bba03439a292a1e166f80264c16191cb  ...   13.200\n",
              "\n",
              "[5 rows x 32 columns]"
            ]
          },
          "metadata": {
            "tags": []
          },
          "execution_count": 3
        }
      ]
    },
    {
      "cell_type": "code",
      "metadata": {
        "colab": {
          "base_uri": "https://localhost:8080/",
          "height": 195
        },
        "id": "G9TgT3iMwexL",
        "outputId": "45cd0f30-7545-4155-bcfe-dd18f53f7a91"
      },
      "source": [
        "df2.head()"
      ],
      "execution_count": 4,
      "outputs": [
        {
          "output_type": "execute_result",
          "data": {
            "text/html": [
              "<div>\n",
              "<style scoped>\n",
              "    .dataframe tbody tr th:only-of-type {\n",
              "        vertical-align: middle;\n",
              "    }\n",
              "\n",
              "    .dataframe tbody tr th {\n",
              "        vertical-align: top;\n",
              "    }\n",
              "\n",
              "    .dataframe thead th {\n",
              "        text-align: right;\n",
              "    }\n",
              "</style>\n",
              "<table border=\"1\" class=\"dataframe\">\n",
              "  <thead>\n",
              "    <tr style=\"text-align: right;\">\n",
              "      <th></th>\n",
              "      <th>id</th>\n",
              "      <th>price_date</th>\n",
              "      <th>price_p1_var</th>\n",
              "      <th>price_p2_var</th>\n",
              "      <th>price_p3_var</th>\n",
              "      <th>price_p1_fix</th>\n",
              "      <th>price_p2_fix</th>\n",
              "      <th>price_p3_fix</th>\n",
              "    </tr>\n",
              "  </thead>\n",
              "  <tbody>\n",
              "    <tr>\n",
              "      <th>0</th>\n",
              "      <td>038af19179925da21a25619c5a24b745</td>\n",
              "      <td>2015-01-01</td>\n",
              "      <td>0.151367</td>\n",
              "      <td>0.0</td>\n",
              "      <td>0.0</td>\n",
              "      <td>44.266931</td>\n",
              "      <td>0.0</td>\n",
              "      <td>0.0</td>\n",
              "    </tr>\n",
              "    <tr>\n",
              "      <th>1</th>\n",
              "      <td>038af19179925da21a25619c5a24b745</td>\n",
              "      <td>2015-02-01</td>\n",
              "      <td>0.151367</td>\n",
              "      <td>0.0</td>\n",
              "      <td>0.0</td>\n",
              "      <td>44.266931</td>\n",
              "      <td>0.0</td>\n",
              "      <td>0.0</td>\n",
              "    </tr>\n",
              "    <tr>\n",
              "      <th>2</th>\n",
              "      <td>038af19179925da21a25619c5a24b745</td>\n",
              "      <td>2015-03-01</td>\n",
              "      <td>0.151367</td>\n",
              "      <td>0.0</td>\n",
              "      <td>0.0</td>\n",
              "      <td>44.266931</td>\n",
              "      <td>0.0</td>\n",
              "      <td>0.0</td>\n",
              "    </tr>\n",
              "    <tr>\n",
              "      <th>3</th>\n",
              "      <td>038af19179925da21a25619c5a24b745</td>\n",
              "      <td>2015-04-01</td>\n",
              "      <td>0.149626</td>\n",
              "      <td>0.0</td>\n",
              "      <td>0.0</td>\n",
              "      <td>44.266931</td>\n",
              "      <td>0.0</td>\n",
              "      <td>0.0</td>\n",
              "    </tr>\n",
              "    <tr>\n",
              "      <th>4</th>\n",
              "      <td>038af19179925da21a25619c5a24b745</td>\n",
              "      <td>2015-05-01</td>\n",
              "      <td>0.149626</td>\n",
              "      <td>0.0</td>\n",
              "      <td>0.0</td>\n",
              "      <td>44.266931</td>\n",
              "      <td>0.0</td>\n",
              "      <td>0.0</td>\n",
              "    </tr>\n",
              "  </tbody>\n",
              "</table>\n",
              "</div>"
            ],
            "text/plain": [
              "                                 id  price_date  ...  price_p2_fix  price_p3_fix\n",
              "0  038af19179925da21a25619c5a24b745  2015-01-01  ...           0.0           0.0\n",
              "1  038af19179925da21a25619c5a24b745  2015-02-01  ...           0.0           0.0\n",
              "2  038af19179925da21a25619c5a24b745  2015-03-01  ...           0.0           0.0\n",
              "3  038af19179925da21a25619c5a24b745  2015-04-01  ...           0.0           0.0\n",
              "4  038af19179925da21a25619c5a24b745  2015-05-01  ...           0.0           0.0\n",
              "\n",
              "[5 rows x 8 columns]"
            ]
          },
          "metadata": {
            "tags": []
          },
          "execution_count": 4
        }
      ]
    },
    {
      "cell_type": "code",
      "metadata": {
        "colab": {
          "base_uri": "https://localhost:8080/",
          "height": 195
        },
        "id": "7E1tNElPwexL",
        "outputId": "1beeb508-c43a-4b48-a660-6c682f1bf8ee"
      },
      "source": [
        "df3.head()"
      ],
      "execution_count": 5,
      "outputs": [
        {
          "output_type": "execute_result",
          "data": {
            "text/html": [
              "<div>\n",
              "<style scoped>\n",
              "    .dataframe tbody tr th:only-of-type {\n",
              "        vertical-align: middle;\n",
              "    }\n",
              "\n",
              "    .dataframe tbody tr th {\n",
              "        vertical-align: top;\n",
              "    }\n",
              "\n",
              "    .dataframe thead th {\n",
              "        text-align: right;\n",
              "    }\n",
              "</style>\n",
              "<table border=\"1\" class=\"dataframe\">\n",
              "  <thead>\n",
              "    <tr style=\"text-align: right;\">\n",
              "      <th></th>\n",
              "      <th>id</th>\n",
              "      <th>churn</th>\n",
              "    </tr>\n",
              "  </thead>\n",
              "  <tbody>\n",
              "    <tr>\n",
              "      <th>0</th>\n",
              "      <td>48ada52261e7cf58715202705a0451c9</td>\n",
              "      <td>0</td>\n",
              "    </tr>\n",
              "    <tr>\n",
              "      <th>1</th>\n",
              "      <td>24011ae4ebbe3035111d65fa7c15bc57</td>\n",
              "      <td>1</td>\n",
              "    </tr>\n",
              "    <tr>\n",
              "      <th>2</th>\n",
              "      <td>d29c2c54acc38ff3c0614d0a653813dd</td>\n",
              "      <td>0</td>\n",
              "    </tr>\n",
              "    <tr>\n",
              "      <th>3</th>\n",
              "      <td>764c75f661154dac3a6c254cd082ea7d</td>\n",
              "      <td>0</td>\n",
              "    </tr>\n",
              "    <tr>\n",
              "      <th>4</th>\n",
              "      <td>bba03439a292a1e166f80264c16191cb</td>\n",
              "      <td>0</td>\n",
              "    </tr>\n",
              "  </tbody>\n",
              "</table>\n",
              "</div>"
            ],
            "text/plain": [
              "                                 id  churn\n",
              "0  48ada52261e7cf58715202705a0451c9      0\n",
              "1  24011ae4ebbe3035111d65fa7c15bc57      1\n",
              "2  d29c2c54acc38ff3c0614d0a653813dd      0\n",
              "3  764c75f661154dac3a6c254cd082ea7d      0\n",
              "4  bba03439a292a1e166f80264c16191cb      0"
            ]
          },
          "metadata": {
            "tags": []
          },
          "execution_count": 5
        }
      ]
    },
    {
      "cell_type": "code",
      "metadata": {
        "colab": {
          "base_uri": "https://localhost:8080/"
        },
        "id": "-HpLMOPIwexM",
        "outputId": "2f900ce5-af6f-400e-bd8e-d355d55eeb24"
      },
      "source": [
        "print(df1.shape)\n",
        "print(df2.shape)\n",
        "print(df3.shape)"
      ],
      "execution_count": 6,
      "outputs": [
        {
          "output_type": "stream",
          "text": [
            "(16096, 32)\n",
            "(193002, 8)\n",
            "(16096, 2)\n"
          ],
          "name": "stdout"
        }
      ]
    },
    {
      "cell_type": "code",
      "metadata": {
        "id": "7xnzSjbJwexM"
      },
      "source": [
        "# df_ = pd.merge(df1, df2, on='id')\n",
        "df = pd.merge(df1, df3, on='id')"
      ],
      "execution_count": 7,
      "outputs": []
    },
    {
      "cell_type": "code",
      "metadata": {
        "colab": {
          "base_uri": "https://localhost:8080/",
          "height": 299
        },
        "id": "DDajWiRMwexN",
        "outputId": "704812cd-1069-4e95-817c-f0735ef7730f"
      },
      "source": [
        "df.head()"
      ],
      "execution_count": 8,
      "outputs": [
        {
          "output_type": "execute_result",
          "data": {
            "text/html": [
              "<div>\n",
              "<style scoped>\n",
              "    .dataframe tbody tr th:only-of-type {\n",
              "        vertical-align: middle;\n",
              "    }\n",
              "\n",
              "    .dataframe tbody tr th {\n",
              "        vertical-align: top;\n",
              "    }\n",
              "\n",
              "    .dataframe thead th {\n",
              "        text-align: right;\n",
              "    }\n",
              "</style>\n",
              "<table border=\"1\" class=\"dataframe\">\n",
              "  <thead>\n",
              "    <tr style=\"text-align: right;\">\n",
              "      <th></th>\n",
              "      <th>id</th>\n",
              "      <th>activity_new</th>\n",
              "      <th>campaign_disc_ele</th>\n",
              "      <th>channel_sales</th>\n",
              "      <th>cons_12m</th>\n",
              "      <th>cons_gas_12m</th>\n",
              "      <th>cons_last_month</th>\n",
              "      <th>date_activ</th>\n",
              "      <th>date_end</th>\n",
              "      <th>date_first_activ</th>\n",
              "      <th>date_modif_prod</th>\n",
              "      <th>date_renewal</th>\n",
              "      <th>forecast_base_bill_ele</th>\n",
              "      <th>forecast_base_bill_year</th>\n",
              "      <th>forecast_bill_12m</th>\n",
              "      <th>forecast_cons</th>\n",
              "      <th>forecast_cons_12m</th>\n",
              "      <th>forecast_cons_year</th>\n",
              "      <th>forecast_discount_energy</th>\n",
              "      <th>forecast_meter_rent_12m</th>\n",
              "      <th>forecast_price_energy_p1</th>\n",
              "      <th>forecast_price_energy_p2</th>\n",
              "      <th>forecast_price_pow_p1</th>\n",
              "      <th>has_gas</th>\n",
              "      <th>imp_cons</th>\n",
              "      <th>margin_gross_pow_ele</th>\n",
              "      <th>margin_net_pow_ele</th>\n",
              "      <th>nb_prod_act</th>\n",
              "      <th>net_margin</th>\n",
              "      <th>num_years_antig</th>\n",
              "      <th>origin_up</th>\n",
              "      <th>pow_max</th>\n",
              "      <th>churn</th>\n",
              "    </tr>\n",
              "  </thead>\n",
              "  <tbody>\n",
              "    <tr>\n",
              "      <th>0</th>\n",
              "      <td>48ada52261e7cf58715202705a0451c9</td>\n",
              "      <td>esoiiifxdlbkcsluxmfuacbdckommixw</td>\n",
              "      <td>NaN</td>\n",
              "      <td>lmkebamcaaclubfxadlmueccxoimlema</td>\n",
              "      <td>309275</td>\n",
              "      <td>0</td>\n",
              "      <td>10025</td>\n",
              "      <td>2012-11-07</td>\n",
              "      <td>2016-11-06</td>\n",
              "      <td>NaN</td>\n",
              "      <td>2012-11-07</td>\n",
              "      <td>2015-11-09</td>\n",
              "      <td>NaN</td>\n",
              "      <td>NaN</td>\n",
              "      <td>NaN</td>\n",
              "      <td>NaN</td>\n",
              "      <td>26520.30</td>\n",
              "      <td>10025</td>\n",
              "      <td>0.0</td>\n",
              "      <td>359.29</td>\n",
              "      <td>0.095919</td>\n",
              "      <td>0.088347</td>\n",
              "      <td>58.995952</td>\n",
              "      <td>f</td>\n",
              "      <td>831.8</td>\n",
              "      <td>-41.76</td>\n",
              "      <td>-41.76</td>\n",
              "      <td>1</td>\n",
              "      <td>1732.36</td>\n",
              "      <td>3</td>\n",
              "      <td>ldkssxwpmemidmecebumciepifcamkci</td>\n",
              "      <td>180.000</td>\n",
              "      <td>0</td>\n",
              "    </tr>\n",
              "    <tr>\n",
              "      <th>1</th>\n",
              "      <td>24011ae4ebbe3035111d65fa7c15bc57</td>\n",
              "      <td>NaN</td>\n",
              "      <td>NaN</td>\n",
              "      <td>foosdfpfkusacimwkcsosbicdxkicaua</td>\n",
              "      <td>0</td>\n",
              "      <td>54946</td>\n",
              "      <td>0</td>\n",
              "      <td>2013-06-15</td>\n",
              "      <td>2016-06-15</td>\n",
              "      <td>NaN</td>\n",
              "      <td>NaN</td>\n",
              "      <td>2015-06-23</td>\n",
              "      <td>NaN</td>\n",
              "      <td>NaN</td>\n",
              "      <td>NaN</td>\n",
              "      <td>NaN</td>\n",
              "      <td>0.00</td>\n",
              "      <td>0</td>\n",
              "      <td>0.0</td>\n",
              "      <td>1.78</td>\n",
              "      <td>0.114481</td>\n",
              "      <td>0.098142</td>\n",
              "      <td>40.606701</td>\n",
              "      <td>t</td>\n",
              "      <td>0.0</td>\n",
              "      <td>25.44</td>\n",
              "      <td>25.44</td>\n",
              "      <td>2</td>\n",
              "      <td>678.99</td>\n",
              "      <td>3</td>\n",
              "      <td>lxidpiddsbxsbosboudacockeimpuepw</td>\n",
              "      <td>43.648</td>\n",
              "      <td>1</td>\n",
              "    </tr>\n",
              "    <tr>\n",
              "      <th>2</th>\n",
              "      <td>d29c2c54acc38ff3c0614d0a653813dd</td>\n",
              "      <td>NaN</td>\n",
              "      <td>NaN</td>\n",
              "      <td>NaN</td>\n",
              "      <td>4660</td>\n",
              "      <td>0</td>\n",
              "      <td>0</td>\n",
              "      <td>2009-08-21</td>\n",
              "      <td>2016-08-30</td>\n",
              "      <td>NaN</td>\n",
              "      <td>2009-08-21</td>\n",
              "      <td>2015-08-31</td>\n",
              "      <td>NaN</td>\n",
              "      <td>NaN</td>\n",
              "      <td>NaN</td>\n",
              "      <td>NaN</td>\n",
              "      <td>189.95</td>\n",
              "      <td>0</td>\n",
              "      <td>0.0</td>\n",
              "      <td>16.27</td>\n",
              "      <td>0.145711</td>\n",
              "      <td>0.000000</td>\n",
              "      <td>44.311378</td>\n",
              "      <td>f</td>\n",
              "      <td>0.0</td>\n",
              "      <td>16.38</td>\n",
              "      <td>16.38</td>\n",
              "      <td>1</td>\n",
              "      <td>18.89</td>\n",
              "      <td>6</td>\n",
              "      <td>kamkkxfxxuwbdslkwifmmcsiusiuosws</td>\n",
              "      <td>13.800</td>\n",
              "      <td>0</td>\n",
              "    </tr>\n",
              "    <tr>\n",
              "      <th>3</th>\n",
              "      <td>764c75f661154dac3a6c254cd082ea7d</td>\n",
              "      <td>NaN</td>\n",
              "      <td>NaN</td>\n",
              "      <td>foosdfpfkusacimwkcsosbicdxkicaua</td>\n",
              "      <td>544</td>\n",
              "      <td>0</td>\n",
              "      <td>0</td>\n",
              "      <td>2010-04-16</td>\n",
              "      <td>2016-04-16</td>\n",
              "      <td>NaN</td>\n",
              "      <td>2010-04-16</td>\n",
              "      <td>2015-04-17</td>\n",
              "      <td>NaN</td>\n",
              "      <td>NaN</td>\n",
              "      <td>NaN</td>\n",
              "      <td>NaN</td>\n",
              "      <td>47.96</td>\n",
              "      <td>0</td>\n",
              "      <td>0.0</td>\n",
              "      <td>38.72</td>\n",
              "      <td>0.165794</td>\n",
              "      <td>0.087899</td>\n",
              "      <td>44.311378</td>\n",
              "      <td>f</td>\n",
              "      <td>0.0</td>\n",
              "      <td>28.60</td>\n",
              "      <td>28.60</td>\n",
              "      <td>1</td>\n",
              "      <td>6.60</td>\n",
              "      <td>6</td>\n",
              "      <td>kamkkxfxxuwbdslkwifmmcsiusiuosws</td>\n",
              "      <td>13.856</td>\n",
              "      <td>0</td>\n",
              "    </tr>\n",
              "    <tr>\n",
              "      <th>4</th>\n",
              "      <td>bba03439a292a1e166f80264c16191cb</td>\n",
              "      <td>NaN</td>\n",
              "      <td>NaN</td>\n",
              "      <td>lmkebamcaaclubfxadlmueccxoimlema</td>\n",
              "      <td>1584</td>\n",
              "      <td>0</td>\n",
              "      <td>0</td>\n",
              "      <td>2010-03-30</td>\n",
              "      <td>2016-03-30</td>\n",
              "      <td>NaN</td>\n",
              "      <td>2010-03-30</td>\n",
              "      <td>2015-03-31</td>\n",
              "      <td>NaN</td>\n",
              "      <td>NaN</td>\n",
              "      <td>NaN</td>\n",
              "      <td>NaN</td>\n",
              "      <td>240.04</td>\n",
              "      <td>0</td>\n",
              "      <td>0.0</td>\n",
              "      <td>19.83</td>\n",
              "      <td>0.146694</td>\n",
              "      <td>0.000000</td>\n",
              "      <td>44.311378</td>\n",
              "      <td>f</td>\n",
              "      <td>0.0</td>\n",
              "      <td>30.22</td>\n",
              "      <td>30.22</td>\n",
              "      <td>1</td>\n",
              "      <td>25.46</td>\n",
              "      <td>6</td>\n",
              "      <td>kamkkxfxxuwbdslkwifmmcsiusiuosws</td>\n",
              "      <td>13.200</td>\n",
              "      <td>0</td>\n",
              "    </tr>\n",
              "  </tbody>\n",
              "</table>\n",
              "</div>"
            ],
            "text/plain": [
              "                                 id  ... churn\n",
              "0  48ada52261e7cf58715202705a0451c9  ...     0\n",
              "1  24011ae4ebbe3035111d65fa7c15bc57  ...     1\n",
              "2  d29c2c54acc38ff3c0614d0a653813dd  ...     0\n",
              "3  764c75f661154dac3a6c254cd082ea7d  ...     0\n",
              "4  bba03439a292a1e166f80264c16191cb  ...     0\n",
              "\n",
              "[5 rows x 33 columns]"
            ]
          },
          "metadata": {
            "tags": []
          },
          "execution_count": 8
        }
      ]
    },
    {
      "cell_type": "code",
      "metadata": {
        "colab": {
          "base_uri": "https://localhost:8080/"
        },
        "id": "jA6HrDC6wexN",
        "outputId": "6d31c339-9955-4dc9-c881-0cada89119e5"
      },
      "source": [
        "df.shape"
      ],
      "execution_count": 9,
      "outputs": [
        {
          "output_type": "execute_result",
          "data": {
            "text/plain": [
              "(16096, 33)"
            ]
          },
          "metadata": {
            "tags": []
          },
          "execution_count": 9
        }
      ]
    },
    {
      "cell_type": "code",
      "metadata": {
        "colab": {
          "base_uri": "https://localhost:8080/"
        },
        "id": "opIOAuZZwexN",
        "outputId": "c7521df6-83b8-4d88-ae01-41e8475dc45f"
      },
      "source": [
        "df.info()"
      ],
      "execution_count": 10,
      "outputs": [
        {
          "output_type": "stream",
          "text": [
            "<class 'pandas.core.frame.DataFrame'>\n",
            "Int64Index: 16096 entries, 0 to 16095\n",
            "Data columns (total 33 columns):\n",
            " #   Column                    Non-Null Count  Dtype  \n",
            "---  ------                    --------------  -----  \n",
            " 0   id                        16096 non-null  object \n",
            " 1   activity_new              6551 non-null   object \n",
            " 2   campaign_disc_ele         0 non-null      float64\n",
            " 3   channel_sales             11878 non-null  object \n",
            " 4   cons_12m                  16096 non-null  int64  \n",
            " 5   cons_gas_12m              16096 non-null  int64  \n",
            " 6   cons_last_month           16096 non-null  int64  \n",
            " 7   date_activ                16096 non-null  object \n",
            " 8   date_end                  16094 non-null  object \n",
            " 9   date_first_activ          3508 non-null   object \n",
            " 10  date_modif_prod           15939 non-null  object \n",
            " 11  date_renewal              16056 non-null  object \n",
            " 12  forecast_base_bill_ele    3508 non-null   float64\n",
            " 13  forecast_base_bill_year   3508 non-null   float64\n",
            " 14  forecast_bill_12m         3508 non-null   float64\n",
            " 15  forecast_cons             3508 non-null   float64\n",
            " 16  forecast_cons_12m         16096 non-null  float64\n",
            " 17  forecast_cons_year        16096 non-null  int64  \n",
            " 18  forecast_discount_energy  15970 non-null  float64\n",
            " 19  forecast_meter_rent_12m   16096 non-null  float64\n",
            " 20  forecast_price_energy_p1  15970 non-null  float64\n",
            " 21  forecast_price_energy_p2  15970 non-null  float64\n",
            " 22  forecast_price_pow_p1     15970 non-null  float64\n",
            " 23  has_gas                   16096 non-null  object \n",
            " 24  imp_cons                  16096 non-null  float64\n",
            " 25  margin_gross_pow_ele      16083 non-null  float64\n",
            " 26  margin_net_pow_ele        16083 non-null  float64\n",
            " 27  nb_prod_act               16096 non-null  int64  \n",
            " 28  net_margin                16081 non-null  float64\n",
            " 29  num_years_antig           16096 non-null  int64  \n",
            " 30  origin_up                 16009 non-null  object \n",
            " 31  pow_max                   16093 non-null  float64\n",
            " 32  churn                     16096 non-null  int64  \n",
            "dtypes: float64(16), int64(7), object(10)\n",
            "memory usage: 4.2+ MB\n"
          ],
          "name": "stdout"
        }
      ]
    },
    {
      "cell_type": "markdown",
      "metadata": {
        "id": "HPSzetrUwexO"
      },
      "source": [
        "Columns forecast_cons, forecast_bill_12m, forecast_base_bill_year, forecast_base_bill_ele, date_first_activ, campaign_disc_ele, and activity_new have very few non-null values, thus they will be dropped."
      ]
    },
    {
      "cell_type": "code",
      "metadata": {
        "id": "tS2f6pdUwexO"
      },
      "source": [
        "# Dropping columns that have very few non-null values.\n",
        "df.drop(['forecast_cons', 'forecast_bill_12m', 'forecast_base_bill_year', 'forecast_base_bill_ele', 'date_first_activ', \n",
        "              'campaign_disc_ele', 'activity_new'], axis=1, inplace=True)"
      ],
      "execution_count": 11,
      "outputs": []
    },
    {
      "cell_type": "code",
      "metadata": {
        "colab": {
          "base_uri": "https://localhost:8080/"
        },
        "id": "B8KZ-RPRwexO",
        "outputId": "3549cc67-d614-404b-fce6-9550ea8dc5d9"
      },
      "source": [
        "df.shape"
      ],
      "execution_count": 12,
      "outputs": [
        {
          "output_type": "execute_result",
          "data": {
            "text/plain": [
              "(16096, 26)"
            ]
          },
          "metadata": {
            "tags": []
          },
          "execution_count": 12
        }
      ]
    },
    {
      "cell_type": "code",
      "metadata": {
        "colab": {
          "base_uri": "https://localhost:8080/"
        },
        "id": "BRALpgv_wexP",
        "outputId": "8a1ebca5-779a-4b41-ee85-ebaa7a4e02e1"
      },
      "source": [
        "df.info()"
      ],
      "execution_count": 13,
      "outputs": [
        {
          "output_type": "stream",
          "text": [
            "<class 'pandas.core.frame.DataFrame'>\n",
            "Int64Index: 16096 entries, 0 to 16095\n",
            "Data columns (total 26 columns):\n",
            " #   Column                    Non-Null Count  Dtype  \n",
            "---  ------                    --------------  -----  \n",
            " 0   id                        16096 non-null  object \n",
            " 1   channel_sales             11878 non-null  object \n",
            " 2   cons_12m                  16096 non-null  int64  \n",
            " 3   cons_gas_12m              16096 non-null  int64  \n",
            " 4   cons_last_month           16096 non-null  int64  \n",
            " 5   date_activ                16096 non-null  object \n",
            " 6   date_end                  16094 non-null  object \n",
            " 7   date_modif_prod           15939 non-null  object \n",
            " 8   date_renewal              16056 non-null  object \n",
            " 9   forecast_cons_12m         16096 non-null  float64\n",
            " 10  forecast_cons_year        16096 non-null  int64  \n",
            " 11  forecast_discount_energy  15970 non-null  float64\n",
            " 12  forecast_meter_rent_12m   16096 non-null  float64\n",
            " 13  forecast_price_energy_p1  15970 non-null  float64\n",
            " 14  forecast_price_energy_p2  15970 non-null  float64\n",
            " 15  forecast_price_pow_p1     15970 non-null  float64\n",
            " 16  has_gas                   16096 non-null  object \n",
            " 17  imp_cons                  16096 non-null  float64\n",
            " 18  margin_gross_pow_ele      16083 non-null  float64\n",
            " 19  margin_net_pow_ele        16083 non-null  float64\n",
            " 20  nb_prod_act               16096 non-null  int64  \n",
            " 21  net_margin                16081 non-null  float64\n",
            " 22  num_years_antig           16096 non-null  int64  \n",
            " 23  origin_up                 16009 non-null  object \n",
            " 24  pow_max                   16093 non-null  float64\n",
            " 25  churn                     16096 non-null  int64  \n",
            "dtypes: float64(11), int64(7), object(8)\n",
            "memory usage: 3.3+ MB\n"
          ],
          "name": "stdout"
        }
      ]
    },
    {
      "cell_type": "markdown",
      "metadata": {
        "id": "AXjR7P3IwexP"
      },
      "source": [
        "We will check if there are any duplicated rows."
      ]
    },
    {
      "cell_type": "code",
      "metadata": {
        "colab": {
          "base_uri": "https://localhost:8080/",
          "height": 67
        },
        "id": "rkVRTaYowexP",
        "outputId": "0b96919d-9a7c-4958-e1bd-ea96c77782b3"
      },
      "source": [
        "df[df.duplicated() == True]"
      ],
      "execution_count": 14,
      "outputs": [
        {
          "output_type": "execute_result",
          "data": {
            "text/html": [
              "<div>\n",
              "<style scoped>\n",
              "    .dataframe tbody tr th:only-of-type {\n",
              "        vertical-align: middle;\n",
              "    }\n",
              "\n",
              "    .dataframe tbody tr th {\n",
              "        vertical-align: top;\n",
              "    }\n",
              "\n",
              "    .dataframe thead th {\n",
              "        text-align: right;\n",
              "    }\n",
              "</style>\n",
              "<table border=\"1\" class=\"dataframe\">\n",
              "  <thead>\n",
              "    <tr style=\"text-align: right;\">\n",
              "      <th></th>\n",
              "      <th>id</th>\n",
              "      <th>channel_sales</th>\n",
              "      <th>cons_12m</th>\n",
              "      <th>cons_gas_12m</th>\n",
              "      <th>cons_last_month</th>\n",
              "      <th>date_activ</th>\n",
              "      <th>date_end</th>\n",
              "      <th>date_modif_prod</th>\n",
              "      <th>date_renewal</th>\n",
              "      <th>forecast_cons_12m</th>\n",
              "      <th>forecast_cons_year</th>\n",
              "      <th>forecast_discount_energy</th>\n",
              "      <th>forecast_meter_rent_12m</th>\n",
              "      <th>forecast_price_energy_p1</th>\n",
              "      <th>forecast_price_energy_p2</th>\n",
              "      <th>forecast_price_pow_p1</th>\n",
              "      <th>has_gas</th>\n",
              "      <th>imp_cons</th>\n",
              "      <th>margin_gross_pow_ele</th>\n",
              "      <th>margin_net_pow_ele</th>\n",
              "      <th>nb_prod_act</th>\n",
              "      <th>net_margin</th>\n",
              "      <th>num_years_antig</th>\n",
              "      <th>origin_up</th>\n",
              "      <th>pow_max</th>\n",
              "      <th>churn</th>\n",
              "    </tr>\n",
              "  </thead>\n",
              "  <tbody>\n",
              "  </tbody>\n",
              "</table>\n",
              "</div>"
            ],
            "text/plain": [
              "Empty DataFrame\n",
              "Columns: [id, channel_sales, cons_12m, cons_gas_12m, cons_last_month, date_activ, date_end, date_modif_prod, date_renewal, forecast_cons_12m, forecast_cons_year, forecast_discount_energy, forecast_meter_rent_12m, forecast_price_energy_p1, forecast_price_energy_p2, forecast_price_pow_p1, has_gas, imp_cons, margin_gross_pow_ele, margin_net_pow_ele, nb_prod_act, net_margin, num_years_antig, origin_up, pow_max, churn]\n",
              "Index: []"
            ]
          },
          "metadata": {
            "tags": []
          },
          "execution_count": 14
        }
      ]
    },
    {
      "cell_type": "markdown",
      "metadata": {
        "id": "RzIKZ9s7wexQ"
      },
      "source": [
        "No rows are duplicated."
      ]
    },
    {
      "cell_type": "markdown",
      "metadata": {
        "id": "IRUIBkHZwexQ"
      },
      "source": [
        "The number of null values is small compared to the number of data we have, so we will frop rows with null values."
      ]
    },
    {
      "cell_type": "code",
      "metadata": {
        "scrolled": false,
        "colab": {
          "base_uri": "https://localhost:8080/",
          "height": 590
        },
        "id": "LZ_-5Z0IwexQ",
        "outputId": "7dfe0bd5-0da5-47c3-de42-08adf3a4b03e"
      },
      "source": [
        "# Dropping rows with null values\n",
        "df.dropna(inplace=True)\n",
        "df"
      ],
      "execution_count": 15,
      "outputs": [
        {
          "output_type": "execute_result",
          "data": {
            "text/html": [
              "<div>\n",
              "<style scoped>\n",
              "    .dataframe tbody tr th:only-of-type {\n",
              "        vertical-align: middle;\n",
              "    }\n",
              "\n",
              "    .dataframe tbody tr th {\n",
              "        vertical-align: top;\n",
              "    }\n",
              "\n",
              "    .dataframe thead th {\n",
              "        text-align: right;\n",
              "    }\n",
              "</style>\n",
              "<table border=\"1\" class=\"dataframe\">\n",
              "  <thead>\n",
              "    <tr style=\"text-align: right;\">\n",
              "      <th></th>\n",
              "      <th>id</th>\n",
              "      <th>channel_sales</th>\n",
              "      <th>cons_12m</th>\n",
              "      <th>cons_gas_12m</th>\n",
              "      <th>cons_last_month</th>\n",
              "      <th>date_activ</th>\n",
              "      <th>date_end</th>\n",
              "      <th>date_modif_prod</th>\n",
              "      <th>date_renewal</th>\n",
              "      <th>forecast_cons_12m</th>\n",
              "      <th>forecast_cons_year</th>\n",
              "      <th>forecast_discount_energy</th>\n",
              "      <th>forecast_meter_rent_12m</th>\n",
              "      <th>forecast_price_energy_p1</th>\n",
              "      <th>forecast_price_energy_p2</th>\n",
              "      <th>forecast_price_pow_p1</th>\n",
              "      <th>has_gas</th>\n",
              "      <th>imp_cons</th>\n",
              "      <th>margin_gross_pow_ele</th>\n",
              "      <th>margin_net_pow_ele</th>\n",
              "      <th>nb_prod_act</th>\n",
              "      <th>net_margin</th>\n",
              "      <th>num_years_antig</th>\n",
              "      <th>origin_up</th>\n",
              "      <th>pow_max</th>\n",
              "      <th>churn</th>\n",
              "    </tr>\n",
              "  </thead>\n",
              "  <tbody>\n",
              "    <tr>\n",
              "      <th>0</th>\n",
              "      <td>48ada52261e7cf58715202705a0451c9</td>\n",
              "      <td>lmkebamcaaclubfxadlmueccxoimlema</td>\n",
              "      <td>309275</td>\n",
              "      <td>0</td>\n",
              "      <td>10025</td>\n",
              "      <td>2012-11-07</td>\n",
              "      <td>2016-11-06</td>\n",
              "      <td>2012-11-07</td>\n",
              "      <td>2015-11-09</td>\n",
              "      <td>26520.30</td>\n",
              "      <td>10025</td>\n",
              "      <td>0.0</td>\n",
              "      <td>359.29</td>\n",
              "      <td>0.095919</td>\n",
              "      <td>0.088347</td>\n",
              "      <td>58.995952</td>\n",
              "      <td>f</td>\n",
              "      <td>831.80</td>\n",
              "      <td>-41.76</td>\n",
              "      <td>-41.76</td>\n",
              "      <td>1</td>\n",
              "      <td>1732.36</td>\n",
              "      <td>3</td>\n",
              "      <td>ldkssxwpmemidmecebumciepifcamkci</td>\n",
              "      <td>180.000</td>\n",
              "      <td>0</td>\n",
              "    </tr>\n",
              "    <tr>\n",
              "      <th>3</th>\n",
              "      <td>764c75f661154dac3a6c254cd082ea7d</td>\n",
              "      <td>foosdfpfkusacimwkcsosbicdxkicaua</td>\n",
              "      <td>544</td>\n",
              "      <td>0</td>\n",
              "      <td>0</td>\n",
              "      <td>2010-04-16</td>\n",
              "      <td>2016-04-16</td>\n",
              "      <td>2010-04-16</td>\n",
              "      <td>2015-04-17</td>\n",
              "      <td>47.96</td>\n",
              "      <td>0</td>\n",
              "      <td>0.0</td>\n",
              "      <td>38.72</td>\n",
              "      <td>0.165794</td>\n",
              "      <td>0.087899</td>\n",
              "      <td>44.311378</td>\n",
              "      <td>f</td>\n",
              "      <td>0.00</td>\n",
              "      <td>28.60</td>\n",
              "      <td>28.60</td>\n",
              "      <td>1</td>\n",
              "      <td>6.60</td>\n",
              "      <td>6</td>\n",
              "      <td>kamkkxfxxuwbdslkwifmmcsiusiuosws</td>\n",
              "      <td>13.856</td>\n",
              "      <td>0</td>\n",
              "    </tr>\n",
              "    <tr>\n",
              "      <th>4</th>\n",
              "      <td>bba03439a292a1e166f80264c16191cb</td>\n",
              "      <td>lmkebamcaaclubfxadlmueccxoimlema</td>\n",
              "      <td>1584</td>\n",
              "      <td>0</td>\n",
              "      <td>0</td>\n",
              "      <td>2010-03-30</td>\n",
              "      <td>2016-03-30</td>\n",
              "      <td>2010-03-30</td>\n",
              "      <td>2015-03-31</td>\n",
              "      <td>240.04</td>\n",
              "      <td>0</td>\n",
              "      <td>0.0</td>\n",
              "      <td>19.83</td>\n",
              "      <td>0.146694</td>\n",
              "      <td>0.000000</td>\n",
              "      <td>44.311378</td>\n",
              "      <td>f</td>\n",
              "      <td>0.00</td>\n",
              "      <td>30.22</td>\n",
              "      <td>30.22</td>\n",
              "      <td>1</td>\n",
              "      <td>25.46</td>\n",
              "      <td>6</td>\n",
              "      <td>kamkkxfxxuwbdslkwifmmcsiusiuosws</td>\n",
              "      <td>13.200</td>\n",
              "      <td>0</td>\n",
              "    </tr>\n",
              "    <tr>\n",
              "      <th>5</th>\n",
              "      <td>568bb38a1afd7c0fc49c77b3789b59a3</td>\n",
              "      <td>foosdfpfkusacimwkcsosbicdxkicaua</td>\n",
              "      <td>121335</td>\n",
              "      <td>0</td>\n",
              "      <td>12400</td>\n",
              "      <td>2010-04-08</td>\n",
              "      <td>2016-04-08</td>\n",
              "      <td>2010-04-08</td>\n",
              "      <td>2015-04-12</td>\n",
              "      <td>10865.02</td>\n",
              "      <td>12400</td>\n",
              "      <td>0.0</td>\n",
              "      <td>170.74</td>\n",
              "      <td>0.110083</td>\n",
              "      <td>0.093746</td>\n",
              "      <td>40.606701</td>\n",
              "      <td>f</td>\n",
              "      <td>1052.37</td>\n",
              "      <td>-3.18</td>\n",
              "      <td>-3.18</td>\n",
              "      <td>1</td>\n",
              "      <td>823.18</td>\n",
              "      <td>6</td>\n",
              "      <td>lxidpiddsbxsbosboudacockeimpuepw</td>\n",
              "      <td>75.000</td>\n",
              "      <td>0</td>\n",
              "    </tr>\n",
              "    <tr>\n",
              "      <th>7</th>\n",
              "      <td>1aa498825382410b098937d65c4ec26d</td>\n",
              "      <td>usilxuppasemubllopkaafesmlibmsdf</td>\n",
              "      <td>8302</td>\n",
              "      <td>0</td>\n",
              "      <td>1998</td>\n",
              "      <td>2011-12-09</td>\n",
              "      <td>2016-12-09</td>\n",
              "      <td>2015-11-01</td>\n",
              "      <td>2015-12-10</td>\n",
              "      <td>796.94</td>\n",
              "      <td>1998</td>\n",
              "      <td>0.0</td>\n",
              "      <td>30.12</td>\n",
              "      <td>0.164775</td>\n",
              "      <td>0.086131</td>\n",
              "      <td>45.308378</td>\n",
              "      <td>f</td>\n",
              "      <td>181.21</td>\n",
              "      <td>33.12</td>\n",
              "      <td>33.12</td>\n",
              "      <td>1</td>\n",
              "      <td>118.89</td>\n",
              "      <td>4</td>\n",
              "      <td>lxidpiddsbxsbosboudacockeimpuepw</td>\n",
              "      <td>13.200</td>\n",
              "      <td>1</td>\n",
              "    </tr>\n",
              "    <tr>\n",
              "      <th>...</th>\n",
              "      <td>...</td>\n",
              "      <td>...</td>\n",
              "      <td>...</td>\n",
              "      <td>...</td>\n",
              "      <td>...</td>\n",
              "      <td>...</td>\n",
              "      <td>...</td>\n",
              "      <td>...</td>\n",
              "      <td>...</td>\n",
              "      <td>...</td>\n",
              "      <td>...</td>\n",
              "      <td>...</td>\n",
              "      <td>...</td>\n",
              "      <td>...</td>\n",
              "      <td>...</td>\n",
              "      <td>...</td>\n",
              "      <td>...</td>\n",
              "      <td>...</td>\n",
              "      <td>...</td>\n",
              "      <td>...</td>\n",
              "      <td>...</td>\n",
              "      <td>...</td>\n",
              "      <td>...</td>\n",
              "      <td>...</td>\n",
              "      <td>...</td>\n",
              "      <td>...</td>\n",
              "    </tr>\n",
              "    <tr>\n",
              "      <th>16090</th>\n",
              "      <td>c49217f16a06263e5381eaba94a67a8b</td>\n",
              "      <td>foosdfpfkusacimwkcsosbicdxkicaua</td>\n",
              "      <td>87146</td>\n",
              "      <td>0</td>\n",
              "      <td>11367</td>\n",
              "      <td>2013-02-08</td>\n",
              "      <td>2016-02-08</td>\n",
              "      <td>2013-02-08</td>\n",
              "      <td>2015-02-09</td>\n",
              "      <td>712.33</td>\n",
              "      <td>713</td>\n",
              "      <td>0.0</td>\n",
              "      <td>145.82</td>\n",
              "      <td>0.120372</td>\n",
              "      <td>0.103487</td>\n",
              "      <td>40.606701</td>\n",
              "      <td>f</td>\n",
              "      <td>71.81</td>\n",
              "      <td>66.00</td>\n",
              "      <td>66.00</td>\n",
              "      <td>1</td>\n",
              "      <td>87.14</td>\n",
              "      <td>3</td>\n",
              "      <td>lxidpiddsbxsbosboudacockeimpuepw</td>\n",
              "      <td>26.400</td>\n",
              "      <td>0</td>\n",
              "    </tr>\n",
              "    <tr>\n",
              "      <th>16091</th>\n",
              "      <td>18463073fb097fc0ac5d3e040f356987</td>\n",
              "      <td>foosdfpfkusacimwkcsosbicdxkicaua</td>\n",
              "      <td>32270</td>\n",
              "      <td>47940</td>\n",
              "      <td>0</td>\n",
              "      <td>2012-05-24</td>\n",
              "      <td>2016-05-08</td>\n",
              "      <td>2015-05-08</td>\n",
              "      <td>2014-05-26</td>\n",
              "      <td>4648.01</td>\n",
              "      <td>0</td>\n",
              "      <td>0.0</td>\n",
              "      <td>18.57</td>\n",
              "      <td>0.138305</td>\n",
              "      <td>0.000000</td>\n",
              "      <td>44.311378</td>\n",
              "      <td>t</td>\n",
              "      <td>0.00</td>\n",
              "      <td>27.88</td>\n",
              "      <td>27.88</td>\n",
              "      <td>2</td>\n",
              "      <td>381.77</td>\n",
              "      <td>4</td>\n",
              "      <td>lxidpiddsbxsbosboudacockeimpuepw</td>\n",
              "      <td>15.000</td>\n",
              "      <td>0</td>\n",
              "    </tr>\n",
              "    <tr>\n",
              "      <th>16092</th>\n",
              "      <td>d0a6f71671571ed83b2645d23af6de00</td>\n",
              "      <td>foosdfpfkusacimwkcsosbicdxkicaua</td>\n",
              "      <td>7223</td>\n",
              "      <td>0</td>\n",
              "      <td>181</td>\n",
              "      <td>2012-08-27</td>\n",
              "      <td>2016-08-27</td>\n",
              "      <td>2012-08-27</td>\n",
              "      <td>2015-08-28</td>\n",
              "      <td>631.69</td>\n",
              "      <td>181</td>\n",
              "      <td>0.0</td>\n",
              "      <td>144.03</td>\n",
              "      <td>0.100167</td>\n",
              "      <td>0.091892</td>\n",
              "      <td>58.995952</td>\n",
              "      <td>f</td>\n",
              "      <td>15.94</td>\n",
              "      <td>0.00</td>\n",
              "      <td>0.00</td>\n",
              "      <td>1</td>\n",
              "      <td>90.34</td>\n",
              "      <td>3</td>\n",
              "      <td>lxidpiddsbxsbosboudacockeimpuepw</td>\n",
              "      <td>6.000</td>\n",
              "      <td>1</td>\n",
              "    </tr>\n",
              "    <tr>\n",
              "      <th>16093</th>\n",
              "      <td>10e6828ddd62cbcf687cb74928c4c2d2</td>\n",
              "      <td>foosdfpfkusacimwkcsosbicdxkicaua</td>\n",
              "      <td>1844</td>\n",
              "      <td>0</td>\n",
              "      <td>179</td>\n",
              "      <td>2012-02-08</td>\n",
              "      <td>2016-02-07</td>\n",
              "      <td>2012-02-08</td>\n",
              "      <td>2015-02-09</td>\n",
              "      <td>190.39</td>\n",
              "      <td>179</td>\n",
              "      <td>0.0</td>\n",
              "      <td>129.60</td>\n",
              "      <td>0.116900</td>\n",
              "      <td>0.100015</td>\n",
              "      <td>40.606701</td>\n",
              "      <td>f</td>\n",
              "      <td>18.05</td>\n",
              "      <td>39.84</td>\n",
              "      <td>39.84</td>\n",
              "      <td>1</td>\n",
              "      <td>20.38</td>\n",
              "      <td>4</td>\n",
              "      <td>lxidpiddsbxsbosboudacockeimpuepw</td>\n",
              "      <td>15.935</td>\n",
              "      <td>1</td>\n",
              "    </tr>\n",
              "    <tr>\n",
              "      <th>16094</th>\n",
              "      <td>1cf20fd6206d7678d5bcafd28c53b4db</td>\n",
              "      <td>foosdfpfkusacimwkcsosbicdxkicaua</td>\n",
              "      <td>131</td>\n",
              "      <td>0</td>\n",
              "      <td>0</td>\n",
              "      <td>2012-08-30</td>\n",
              "      <td>2016-08-30</td>\n",
              "      <td>2012-08-30</td>\n",
              "      <td>2015-08-31</td>\n",
              "      <td>19.34</td>\n",
              "      <td>0</td>\n",
              "      <td>0.0</td>\n",
              "      <td>7.18</td>\n",
              "      <td>0.145711</td>\n",
              "      <td>0.000000</td>\n",
              "      <td>44.311378</td>\n",
              "      <td>f</td>\n",
              "      <td>0.00</td>\n",
              "      <td>13.08</td>\n",
              "      <td>13.08</td>\n",
              "      <td>1</td>\n",
              "      <td>0.96</td>\n",
              "      <td>3</td>\n",
              "      <td>lxidpiddsbxsbosboudacockeimpuepw</td>\n",
              "      <td>11.000</td>\n",
              "      <td>0</td>\n",
              "    </tr>\n",
              "  </tbody>\n",
              "</table>\n",
              "<p>11520 rows × 26 columns</p>\n",
              "</div>"
            ],
            "text/plain": [
              "                                     id  ... churn\n",
              "0      48ada52261e7cf58715202705a0451c9  ...     0\n",
              "3      764c75f661154dac3a6c254cd082ea7d  ...     0\n",
              "4      bba03439a292a1e166f80264c16191cb  ...     0\n",
              "5      568bb38a1afd7c0fc49c77b3789b59a3  ...     0\n",
              "7      1aa498825382410b098937d65c4ec26d  ...     1\n",
              "...                                 ...  ...   ...\n",
              "16090  c49217f16a06263e5381eaba94a67a8b  ...     0\n",
              "16091  18463073fb097fc0ac5d3e040f356987  ...     0\n",
              "16092  d0a6f71671571ed83b2645d23af6de00  ...     1\n",
              "16093  10e6828ddd62cbcf687cb74928c4c2d2  ...     1\n",
              "16094  1cf20fd6206d7678d5bcafd28c53b4db  ...     0\n",
              "\n",
              "[11520 rows x 26 columns]"
            ]
          },
          "metadata": {
            "tags": []
          },
          "execution_count": 15
        }
      ]
    },
    {
      "cell_type": "markdown",
      "metadata": {
        "id": "8x2C1oTSwexQ"
      },
      "source": [
        "We will check the values in cons_gas_12m column."
      ]
    },
    {
      "cell_type": "code",
      "metadata": {
        "colab": {
          "base_uri": "https://localhost:8080/"
        },
        "id": "kCCGVYuPwexR",
        "outputId": "edf47c45-09ca-4077-df72-fbfe4b4a7f5a"
      },
      "source": [
        "df.cons_gas_12m.value_counts() / 137194"
      ],
      "execution_count": 16,
      "outputs": [
        {
          "output_type": "execute_result",
          "data": {
            "text/plain": [
              "0          0.069478\n",
              "921247     0.000168\n",
              "867921     0.000168\n",
              "41532      0.000138\n",
              "1959386    0.000131\n",
              "             ...   \n",
              "411556     0.000007\n",
              "16299      0.000007\n",
              "4037       0.000007\n",
              "2020       0.000007\n",
              "12266      0.000007\n",
              "Name: cons_gas_12m, Length: 1583, dtype: float64"
            ]
          },
          "metadata": {
            "tags": []
          },
          "execution_count": 16
        }
      ]
    },
    {
      "cell_type": "code",
      "metadata": {
        "colab": {
          "base_uri": "https://localhost:8080/"
        },
        "id": "2eZDQsg8wexR",
        "outputId": "5be66e2d-38cf-41b5-8db7-8d6e01074ded"
      },
      "source": [
        "df_churn = df[df['churn'] == 1]\n",
        "df_zero_cons = df_churn[df_churn['cons_gas_12m'] == 0].shape[0] / df_churn.shape[0]\n",
        "df_zero_cons"
      ],
      "execution_count": 17,
      "outputs": [
        {
          "output_type": "execute_result",
          "data": {
            "text/plain": [
              "0.8586866167913549"
            ]
          },
          "metadata": {
            "tags": []
          },
          "execution_count": 17
        }
      ]
    },
    {
      "cell_type": "markdown",
      "metadata": {
        "id": "jGLCj_zvwexR"
      },
      "source": [
        "The above calculation shows that 85% od people who churn have 0 gas consumption of the past 12 months."
      ]
    },
    {
      "cell_type": "code",
      "metadata": {
        "colab": {
          "base_uri": "https://localhost:8080/"
        },
        "id": "zrusgU5BwexS",
        "outputId": "25f19097-0657-4301-ad2e-1a529de5ba25"
      },
      "source": [
        "df.channel_sales.value_counts()"
      ],
      "execution_count": 18,
      "outputs": [
        {
          "output_type": "execute_result",
          "data": {
            "text/plain": [
              "foosdfpfkusacimwkcsosbicdxkicaua    7113\n",
              "lmkebamcaaclubfxadlmueccxoimlema    2038\n",
              "usilxuppasemubllopkaafesmlibmsdf    1412\n",
              "ewpakwlliwisiwduibdlfmalxowmwpci     943\n",
              "sddiedcslfslkckwlfkdpoeeailfpeds      10\n",
              "epumfxlbckeskwekxbiuasklxalciiuu       4\n",
              "Name: channel_sales, dtype: int64"
            ]
          },
          "metadata": {
            "tags": []
          },
          "execution_count": 18
        }
      ]
    },
    {
      "cell_type": "code",
      "metadata": {
        "colab": {
          "base_uri": "https://localhost:8080/"
        },
        "id": "s0gpAr6PwexS",
        "outputId": "63b251ca-9a6b-4ee8-81c0-25d3a85f0060"
      },
      "source": [
        "df.info()"
      ],
      "execution_count": 19,
      "outputs": [
        {
          "output_type": "stream",
          "text": [
            "<class 'pandas.core.frame.DataFrame'>\n",
            "Int64Index: 11520 entries, 0 to 16094\n",
            "Data columns (total 26 columns):\n",
            " #   Column                    Non-Null Count  Dtype  \n",
            "---  ------                    --------------  -----  \n",
            " 0   id                        11520 non-null  object \n",
            " 1   channel_sales             11520 non-null  object \n",
            " 2   cons_12m                  11520 non-null  int64  \n",
            " 3   cons_gas_12m              11520 non-null  int64  \n",
            " 4   cons_last_month           11520 non-null  int64  \n",
            " 5   date_activ                11520 non-null  object \n",
            " 6   date_end                  11520 non-null  object \n",
            " 7   date_modif_prod           11520 non-null  object \n",
            " 8   date_renewal              11520 non-null  object \n",
            " 9   forecast_cons_12m         11520 non-null  float64\n",
            " 10  forecast_cons_year        11520 non-null  int64  \n",
            " 11  forecast_discount_energy  11520 non-null  float64\n",
            " 12  forecast_meter_rent_12m   11520 non-null  float64\n",
            " 13  forecast_price_energy_p1  11520 non-null  float64\n",
            " 14  forecast_price_energy_p2  11520 non-null  float64\n",
            " 15  forecast_price_pow_p1     11520 non-null  float64\n",
            " 16  has_gas                   11520 non-null  object \n",
            " 17  imp_cons                  11520 non-null  float64\n",
            " 18  margin_gross_pow_ele      11520 non-null  float64\n",
            " 19  margin_net_pow_ele        11520 non-null  float64\n",
            " 20  nb_prod_act               11520 non-null  int64  \n",
            " 21  net_margin                11520 non-null  float64\n",
            " 22  num_years_antig           11520 non-null  int64  \n",
            " 23  origin_up                 11520 non-null  object \n",
            " 24  pow_max                   11520 non-null  float64\n",
            " 25  churn                     11520 non-null  int64  \n",
            "dtypes: float64(11), int64(7), object(8)\n",
            "memory usage: 2.4+ MB\n"
          ],
          "name": "stdout"
        }
      ]
    },
    {
      "cell_type": "code",
      "metadata": {
        "colab": {
          "base_uri": "https://localhost:8080/"
        },
        "id": "ZKPqG5WrwexS",
        "outputId": "87a96ed2-8f7e-42f8-a6b1-2d2e969522f9"
      },
      "source": [
        "df[df.isna() == True].count()"
      ],
      "execution_count": 20,
      "outputs": [
        {
          "output_type": "execute_result",
          "data": {
            "text/plain": [
              "id                          0\n",
              "channel_sales               0\n",
              "cons_12m                    0\n",
              "cons_gas_12m                0\n",
              "cons_last_month             0\n",
              "date_activ                  0\n",
              "date_end                    0\n",
              "date_modif_prod             0\n",
              "date_renewal                0\n",
              "forecast_cons_12m           0\n",
              "forecast_cons_year          0\n",
              "forecast_discount_energy    0\n",
              "forecast_meter_rent_12m     0\n",
              "forecast_price_energy_p1    0\n",
              "forecast_price_energy_p2    0\n",
              "forecast_price_pow_p1       0\n",
              "has_gas                     0\n",
              "imp_cons                    0\n",
              "margin_gross_pow_ele        0\n",
              "margin_net_pow_ele          0\n",
              "nb_prod_act                 0\n",
              "net_margin                  0\n",
              "num_years_antig             0\n",
              "origin_up                   0\n",
              "pow_max                     0\n",
              "churn                       0\n",
              "dtype: int64"
            ]
          },
          "metadata": {
            "tags": []
          },
          "execution_count": 20
        }
      ]
    },
    {
      "cell_type": "markdown",
      "metadata": {
        "id": "Jhzc59LowexS"
      },
      "source": [
        "We will now see the correlations between features."
      ]
    },
    {
      "cell_type": "code",
      "metadata": {
        "scrolled": false,
        "colab": {
          "base_uri": "https://localhost:8080/",
          "height": 600
        },
        "id": "KhZh8LJAwexT",
        "outputId": "5df47ba7-1045-4fa4-fbb8-53c5ebf8b66d"
      },
      "source": [
        "# See how the features are correlated\n",
        "df.corr()"
      ],
      "execution_count": 21,
      "outputs": [
        {
          "output_type": "execute_result",
          "data": {
            "text/html": [
              "<div>\n",
              "<style scoped>\n",
              "    .dataframe tbody tr th:only-of-type {\n",
              "        vertical-align: middle;\n",
              "    }\n",
              "\n",
              "    .dataframe tbody tr th {\n",
              "        vertical-align: top;\n",
              "    }\n",
              "\n",
              "    .dataframe thead th {\n",
              "        text-align: right;\n",
              "    }\n",
              "</style>\n",
              "<table border=\"1\" class=\"dataframe\">\n",
              "  <thead>\n",
              "    <tr style=\"text-align: right;\">\n",
              "      <th></th>\n",
              "      <th>cons_12m</th>\n",
              "      <th>cons_gas_12m</th>\n",
              "      <th>cons_last_month</th>\n",
              "      <th>forecast_cons_12m</th>\n",
              "      <th>forecast_cons_year</th>\n",
              "      <th>forecast_discount_energy</th>\n",
              "      <th>forecast_meter_rent_12m</th>\n",
              "      <th>forecast_price_energy_p1</th>\n",
              "      <th>forecast_price_energy_p2</th>\n",
              "      <th>forecast_price_pow_p1</th>\n",
              "      <th>imp_cons</th>\n",
              "      <th>margin_gross_pow_ele</th>\n",
              "      <th>margin_net_pow_ele</th>\n",
              "      <th>nb_prod_act</th>\n",
              "      <th>net_margin</th>\n",
              "      <th>num_years_antig</th>\n",
              "      <th>pow_max</th>\n",
              "      <th>churn</th>\n",
              "    </tr>\n",
              "  </thead>\n",
              "  <tbody>\n",
              "    <tr>\n",
              "      <th>cons_12m</th>\n",
              "      <td>1.000000</td>\n",
              "      <td>0.440672</td>\n",
              "      <td>0.926856</td>\n",
              "      <td>0.165464</td>\n",
              "      <td>0.151437</td>\n",
              "      <td>-0.050657</td>\n",
              "      <td>0.090864</td>\n",
              "      <td>-0.050269</td>\n",
              "      <td>0.144121</td>\n",
              "      <td>-0.041720</td>\n",
              "      <td>0.150480</td>\n",
              "      <td>-0.072127</td>\n",
              "      <td>-0.047227</td>\n",
              "      <td>0.318318</td>\n",
              "      <td>0.117016</td>\n",
              "      <td>0.065648</td>\n",
              "      <td>0.109364</td>\n",
              "      <td>-0.054466</td>\n",
              "    </tr>\n",
              "    <tr>\n",
              "      <th>cons_gas_12m</th>\n",
              "      <td>0.440672</td>\n",
              "      <td>1.000000</td>\n",
              "      <td>0.418989</td>\n",
              "      <td>0.054279</td>\n",
              "      <td>0.059827</td>\n",
              "      <td>-0.013676</td>\n",
              "      <td>0.046125</td>\n",
              "      <td>-0.037550</td>\n",
              "      <td>0.072812</td>\n",
              "      <td>-0.036768</td>\n",
              "      <td>0.061986</td>\n",
              "      <td>-0.016293</td>\n",
              "      <td>-0.006193</td>\n",
              "      <td>0.277814</td>\n",
              "      <td>0.056149</td>\n",
              "      <td>0.006872</td>\n",
              "      <td>0.055402</td>\n",
              "      <td>-0.041270</td>\n",
              "    </tr>\n",
              "    <tr>\n",
              "      <th>cons_last_month</th>\n",
              "      <td>0.926856</td>\n",
              "      <td>0.418989</td>\n",
              "      <td>1.000000</td>\n",
              "      <td>0.126574</td>\n",
              "      <td>0.147763</td>\n",
              "      <td>-0.042550</td>\n",
              "      <td>0.079918</td>\n",
              "      <td>-0.038886</td>\n",
              "      <td>0.119828</td>\n",
              "      <td>-0.031563</td>\n",
              "      <td>0.148808</td>\n",
              "      <td>-0.062472</td>\n",
              "      <td>-0.041428</td>\n",
              "      <td>0.355390</td>\n",
              "      <td>0.088516</td>\n",
              "      <td>0.055256</td>\n",
              "      <td>0.092645</td>\n",
              "      <td>-0.049490</td>\n",
              "    </tr>\n",
              "    <tr>\n",
              "      <th>forecast_cons_12m</th>\n",
              "      <td>0.165464</td>\n",
              "      <td>0.054279</td>\n",
              "      <td>0.126574</td>\n",
              "      <td>1.000000</td>\n",
              "      <td>0.762971</td>\n",
              "      <td>0.015344</td>\n",
              "      <td>0.400202</td>\n",
              "      <td>-0.239404</td>\n",
              "      <td>0.244272</td>\n",
              "      <td>0.029635</td>\n",
              "      <td>0.740817</td>\n",
              "      <td>-0.173927</td>\n",
              "      <td>-0.124941</td>\n",
              "      <td>0.015443</td>\n",
              "      <td>0.748164</td>\n",
              "      <td>-0.035103</td>\n",
              "      <td>0.629031</td>\n",
              "      <td>0.015413</td>\n",
              "    </tr>\n",
              "    <tr>\n",
              "      <th>forecast_cons_year</th>\n",
              "      <td>0.151437</td>\n",
              "      <td>0.059827</td>\n",
              "      <td>0.147763</td>\n",
              "      <td>0.762971</td>\n",
              "      <td>1.000000</td>\n",
              "      <td>-0.009885</td>\n",
              "      <td>0.340464</td>\n",
              "      <td>-0.216477</td>\n",
              "      <td>0.229376</td>\n",
              "      <td>0.043317</td>\n",
              "      <td>0.980010</td>\n",
              "      <td>-0.131953</td>\n",
              "      <td>-0.094331</td>\n",
              "      <td>0.018620</td>\n",
              "      <td>0.519020</td>\n",
              "      <td>-0.017074</td>\n",
              "      <td>0.489224</td>\n",
              "      <td>0.011773</td>\n",
              "    </tr>\n",
              "    <tr>\n",
              "      <th>forecast_discount_energy</th>\n",
              "      <td>-0.050657</td>\n",
              "      <td>-0.013676</td>\n",
              "      <td>-0.042550</td>\n",
              "      <td>0.015344</td>\n",
              "      <td>-0.009885</td>\n",
              "      <td>1.000000</td>\n",
              "      <td>-0.020924</td>\n",
              "      <td>0.341542</td>\n",
              "      <td>0.047251</td>\n",
              "      <td>0.046080</td>\n",
              "      <td>0.010218</td>\n",
              "      <td>0.205761</td>\n",
              "      <td>0.154760</td>\n",
              "      <td>0.051527</td>\n",
              "      <td>0.028288</td>\n",
              "      <td>-0.078813</td>\n",
              "      <td>-0.021189</td>\n",
              "      <td>0.013628</td>\n",
              "    </tr>\n",
              "    <tr>\n",
              "      <th>forecast_meter_rent_12m</th>\n",
              "      <td>0.090864</td>\n",
              "      <td>0.046125</td>\n",
              "      <td>0.079918</td>\n",
              "      <td>0.400202</td>\n",
              "      <td>0.340464</td>\n",
              "      <td>-0.020924</td>\n",
              "      <td>1.000000</td>\n",
              "      <td>-0.611800</td>\n",
              "      <td>0.670447</td>\n",
              "      <td>-0.192784</td>\n",
              "      <td>0.304244</td>\n",
              "      <td>0.033990</td>\n",
              "      <td>0.047639</td>\n",
              "      <td>-0.012291</td>\n",
              "      <td>0.341294</td>\n",
              "      <td>-0.018376</td>\n",
              "      <td>0.619608</td>\n",
              "      <td>0.043569</td>\n",
              "    </tr>\n",
              "    <tr>\n",
              "      <th>forecast_price_energy_p1</th>\n",
              "      <td>-0.050269</td>\n",
              "      <td>-0.037550</td>\n",
              "      <td>-0.038886</td>\n",
              "      <td>-0.239404</td>\n",
              "      <td>-0.216477</td>\n",
              "      <td>0.341542</td>\n",
              "      <td>-0.611800</td>\n",
              "      <td>1.000000</td>\n",
              "      <td>-0.417947</td>\n",
              "      <td>0.437707</td>\n",
              "      <td>-0.179094</td>\n",
              "      <td>0.200525</td>\n",
              "      <td>0.010534</td>\n",
              "      <td>0.017240</td>\n",
              "      <td>-0.176826</td>\n",
              "      <td>-0.046347</td>\n",
              "      <td>-0.380166</td>\n",
              "      <td>-0.016624</td>\n",
              "    </tr>\n",
              "    <tr>\n",
              "      <th>forecast_price_energy_p2</th>\n",
              "      <td>0.144121</td>\n",
              "      <td>0.072812</td>\n",
              "      <td>0.119828</td>\n",
              "      <td>0.244272</td>\n",
              "      <td>0.229376</td>\n",
              "      <td>0.047251</td>\n",
              "      <td>0.670447</td>\n",
              "      <td>-0.417947</td>\n",
              "      <td>1.000000</td>\n",
              "      <td>-0.333734</td>\n",
              "      <td>0.211954</td>\n",
              "      <td>0.088159</td>\n",
              "      <td>0.096329</td>\n",
              "      <td>0.026163</td>\n",
              "      <td>0.244107</td>\n",
              "      <td>0.020317</td>\n",
              "      <td>0.360548</td>\n",
              "      <td>0.029638</td>\n",
              "    </tr>\n",
              "    <tr>\n",
              "      <th>forecast_price_pow_p1</th>\n",
              "      <td>-0.041720</td>\n",
              "      <td>-0.036768</td>\n",
              "      <td>-0.031563</td>\n",
              "      <td>0.029635</td>\n",
              "      <td>0.043317</td>\n",
              "      <td>0.046080</td>\n",
              "      <td>-0.192784</td>\n",
              "      <td>0.437707</td>\n",
              "      <td>-0.333734</td>\n",
              "      <td>1.000000</td>\n",
              "      <td>0.032967</td>\n",
              "      <td>-0.031702</td>\n",
              "      <td>-0.083903</td>\n",
              "      <td>-0.015035</td>\n",
              "      <td>-0.015905</td>\n",
              "      <td>-0.023302</td>\n",
              "      <td>-0.015028</td>\n",
              "      <td>-0.003669</td>\n",
              "    </tr>\n",
              "    <tr>\n",
              "      <th>imp_cons</th>\n",
              "      <td>0.150480</td>\n",
              "      <td>0.061986</td>\n",
              "      <td>0.148808</td>\n",
              "      <td>0.740817</td>\n",
              "      <td>0.980010</td>\n",
              "      <td>0.010218</td>\n",
              "      <td>0.304244</td>\n",
              "      <td>-0.179094</td>\n",
              "      <td>0.211954</td>\n",
              "      <td>0.032967</td>\n",
              "      <td>1.000000</td>\n",
              "      <td>-0.116481</td>\n",
              "      <td>-0.081794</td>\n",
              "      <td>0.023433</td>\n",
              "      <td>0.520981</td>\n",
              "      <td>-0.021673</td>\n",
              "      <td>0.449289</td>\n",
              "      <td>0.011387</td>\n",
              "    </tr>\n",
              "    <tr>\n",
              "      <th>margin_gross_pow_ele</th>\n",
              "      <td>-0.072127</td>\n",
              "      <td>-0.016293</td>\n",
              "      <td>-0.062472</td>\n",
              "      <td>-0.173927</td>\n",
              "      <td>-0.131953</td>\n",
              "      <td>0.205761</td>\n",
              "      <td>0.033990</td>\n",
              "      <td>0.200525</td>\n",
              "      <td>0.088159</td>\n",
              "      <td>-0.031702</td>\n",
              "      <td>-0.116481</td>\n",
              "      <td>1.000000</td>\n",
              "      <td>0.730301</td>\n",
              "      <td>-0.046423</td>\n",
              "      <td>-0.079458</td>\n",
              "      <td>-0.033774</td>\n",
              "      <td>0.046753</td>\n",
              "      <td>0.084871</td>\n",
              "    </tr>\n",
              "    <tr>\n",
              "      <th>margin_net_pow_ele</th>\n",
              "      <td>-0.047227</td>\n",
              "      <td>-0.006193</td>\n",
              "      <td>-0.041428</td>\n",
              "      <td>-0.124941</td>\n",
              "      <td>-0.094331</td>\n",
              "      <td>0.154760</td>\n",
              "      <td>0.047639</td>\n",
              "      <td>0.010534</td>\n",
              "      <td>0.096329</td>\n",
              "      <td>-0.083903</td>\n",
              "      <td>-0.081794</td>\n",
              "      <td>0.730301</td>\n",
              "      <td>1.000000</td>\n",
              "      <td>-0.031972</td>\n",
              "      <td>-0.068707</td>\n",
              "      <td>0.013699</td>\n",
              "      <td>0.050572</td>\n",
              "      <td>0.063029</td>\n",
              "    </tr>\n",
              "    <tr>\n",
              "      <th>nb_prod_act</th>\n",
              "      <td>0.318318</td>\n",
              "      <td>0.277814</td>\n",
              "      <td>0.355390</td>\n",
              "      <td>0.015443</td>\n",
              "      <td>0.018620</td>\n",
              "      <td>0.051527</td>\n",
              "      <td>-0.012291</td>\n",
              "      <td>0.017240</td>\n",
              "      <td>0.026163</td>\n",
              "      <td>-0.015035</td>\n",
              "      <td>0.023433</td>\n",
              "      <td>-0.046423</td>\n",
              "      <td>-0.031972</td>\n",
              "      <td>1.000000</td>\n",
              "      <td>0.003941</td>\n",
              "      <td>0.018270</td>\n",
              "      <td>-0.004329</td>\n",
              "      <td>-0.023894</td>\n",
              "    </tr>\n",
              "    <tr>\n",
              "      <th>net_margin</th>\n",
              "      <td>0.117016</td>\n",
              "      <td>0.056149</td>\n",
              "      <td>0.088516</td>\n",
              "      <td>0.748164</td>\n",
              "      <td>0.519020</td>\n",
              "      <td>0.028288</td>\n",
              "      <td>0.341294</td>\n",
              "      <td>-0.176826</td>\n",
              "      <td>0.244107</td>\n",
              "      <td>-0.015905</td>\n",
              "      <td>0.520981</td>\n",
              "      <td>-0.079458</td>\n",
              "      <td>-0.068707</td>\n",
              "      <td>0.003941</td>\n",
              "      <td>1.000000</td>\n",
              "      <td>-0.052220</td>\n",
              "      <td>0.465872</td>\n",
              "      <td>0.038452</td>\n",
              "    </tr>\n",
              "    <tr>\n",
              "      <th>num_years_antig</th>\n",
              "      <td>0.065648</td>\n",
              "      <td>0.006872</td>\n",
              "      <td>0.055256</td>\n",
              "      <td>-0.035103</td>\n",
              "      <td>-0.017074</td>\n",
              "      <td>-0.078813</td>\n",
              "      <td>-0.018376</td>\n",
              "      <td>-0.046347</td>\n",
              "      <td>0.020317</td>\n",
              "      <td>-0.023302</td>\n",
              "      <td>-0.021673</td>\n",
              "      <td>-0.033774</td>\n",
              "      <td>0.013699</td>\n",
              "      <td>0.018270</td>\n",
              "      <td>-0.052220</td>\n",
              "      <td>1.000000</td>\n",
              "      <td>-0.031381</td>\n",
              "      <td>-0.086098</td>\n",
              "    </tr>\n",
              "    <tr>\n",
              "      <th>pow_max</th>\n",
              "      <td>0.109364</td>\n",
              "      <td>0.055402</td>\n",
              "      <td>0.092645</td>\n",
              "      <td>0.629031</td>\n",
              "      <td>0.489224</td>\n",
              "      <td>-0.021189</td>\n",
              "      <td>0.619608</td>\n",
              "      <td>-0.380166</td>\n",
              "      <td>0.360548</td>\n",
              "      <td>-0.015028</td>\n",
              "      <td>0.449289</td>\n",
              "      <td>0.046753</td>\n",
              "      <td>0.050572</td>\n",
              "      <td>-0.004329</td>\n",
              "      <td>0.465872</td>\n",
              "      <td>-0.031381</td>\n",
              "      <td>1.000000</td>\n",
              "      <td>0.027121</td>\n",
              "    </tr>\n",
              "    <tr>\n",
              "      <th>churn</th>\n",
              "      <td>-0.054466</td>\n",
              "      <td>-0.041270</td>\n",
              "      <td>-0.049490</td>\n",
              "      <td>0.015413</td>\n",
              "      <td>0.011773</td>\n",
              "      <td>0.013628</td>\n",
              "      <td>0.043569</td>\n",
              "      <td>-0.016624</td>\n",
              "      <td>0.029638</td>\n",
              "      <td>-0.003669</td>\n",
              "      <td>0.011387</td>\n",
              "      <td>0.084871</td>\n",
              "      <td>0.063029</td>\n",
              "      <td>-0.023894</td>\n",
              "      <td>0.038452</td>\n",
              "      <td>-0.086098</td>\n",
              "      <td>0.027121</td>\n",
              "      <td>1.000000</td>\n",
              "    </tr>\n",
              "  </tbody>\n",
              "</table>\n",
              "</div>"
            ],
            "text/plain": [
              "                          cons_12m  cons_gas_12m  ...   pow_max     churn\n",
              "cons_12m                  1.000000      0.440672  ...  0.109364 -0.054466\n",
              "cons_gas_12m              0.440672      1.000000  ...  0.055402 -0.041270\n",
              "cons_last_month           0.926856      0.418989  ...  0.092645 -0.049490\n",
              "forecast_cons_12m         0.165464      0.054279  ...  0.629031  0.015413\n",
              "forecast_cons_year        0.151437      0.059827  ...  0.489224  0.011773\n",
              "forecast_discount_energy -0.050657     -0.013676  ... -0.021189  0.013628\n",
              "forecast_meter_rent_12m   0.090864      0.046125  ...  0.619608  0.043569\n",
              "forecast_price_energy_p1 -0.050269     -0.037550  ... -0.380166 -0.016624\n",
              "forecast_price_energy_p2  0.144121      0.072812  ...  0.360548  0.029638\n",
              "forecast_price_pow_p1    -0.041720     -0.036768  ... -0.015028 -0.003669\n",
              "imp_cons                  0.150480      0.061986  ...  0.449289  0.011387\n",
              "margin_gross_pow_ele     -0.072127     -0.016293  ...  0.046753  0.084871\n",
              "margin_net_pow_ele       -0.047227     -0.006193  ...  0.050572  0.063029\n",
              "nb_prod_act               0.318318      0.277814  ... -0.004329 -0.023894\n",
              "net_margin                0.117016      0.056149  ...  0.465872  0.038452\n",
              "num_years_antig           0.065648      0.006872  ... -0.031381 -0.086098\n",
              "pow_max                   0.109364      0.055402  ...  1.000000  0.027121\n",
              "churn                    -0.054466     -0.041270  ...  0.027121  1.000000\n",
              "\n",
              "[18 rows x 18 columns]"
            ]
          },
          "metadata": {
            "tags": []
          },
          "execution_count": 21
        }
      ]
    },
    {
      "cell_type": "markdown",
      "metadata": {
        "id": "7Nl3mjofwexT"
      },
      "source": [
        "We notice from the above correlation matrix that there are some features with high correlations. So, we will remove features with correlations above 90%. We will also drop the date columns."
      ]
    },
    {
      "cell_type": "code",
      "metadata": {
        "id": "ToW8so1fwexT"
      },
      "source": [
        "# Dropping highly correlated columns\n",
        "df.drop(['cons_12m', 'forecast_cons_year','date_activ', 'date_end', 'date_modif_prod', 'date_renewal'], axis=1, inplace=True)"
      ],
      "execution_count": 22,
      "outputs": []
    },
    {
      "cell_type": "code",
      "metadata": {
        "colab": {
          "base_uri": "https://localhost:8080/",
          "height": 541
        },
        "id": "KnzvxicpwexT",
        "outputId": "96ccc45e-c4f6-41f5-b987-a47c1b68edc9"
      },
      "source": [
        "# Checking the correlations once more\n",
        "df.corr()"
      ],
      "execution_count": 23,
      "outputs": [
        {
          "output_type": "execute_result",
          "data": {
            "text/html": [
              "<div>\n",
              "<style scoped>\n",
              "    .dataframe tbody tr th:only-of-type {\n",
              "        vertical-align: middle;\n",
              "    }\n",
              "\n",
              "    .dataframe tbody tr th {\n",
              "        vertical-align: top;\n",
              "    }\n",
              "\n",
              "    .dataframe thead th {\n",
              "        text-align: right;\n",
              "    }\n",
              "</style>\n",
              "<table border=\"1\" class=\"dataframe\">\n",
              "  <thead>\n",
              "    <tr style=\"text-align: right;\">\n",
              "      <th></th>\n",
              "      <th>cons_gas_12m</th>\n",
              "      <th>cons_last_month</th>\n",
              "      <th>forecast_cons_12m</th>\n",
              "      <th>forecast_discount_energy</th>\n",
              "      <th>forecast_meter_rent_12m</th>\n",
              "      <th>forecast_price_energy_p1</th>\n",
              "      <th>forecast_price_energy_p2</th>\n",
              "      <th>forecast_price_pow_p1</th>\n",
              "      <th>imp_cons</th>\n",
              "      <th>margin_gross_pow_ele</th>\n",
              "      <th>margin_net_pow_ele</th>\n",
              "      <th>nb_prod_act</th>\n",
              "      <th>net_margin</th>\n",
              "      <th>num_years_antig</th>\n",
              "      <th>pow_max</th>\n",
              "      <th>churn</th>\n",
              "    </tr>\n",
              "  </thead>\n",
              "  <tbody>\n",
              "    <tr>\n",
              "      <th>cons_gas_12m</th>\n",
              "      <td>1.000000</td>\n",
              "      <td>0.418989</td>\n",
              "      <td>0.054279</td>\n",
              "      <td>-0.013676</td>\n",
              "      <td>0.046125</td>\n",
              "      <td>-0.037550</td>\n",
              "      <td>0.072812</td>\n",
              "      <td>-0.036768</td>\n",
              "      <td>0.061986</td>\n",
              "      <td>-0.016293</td>\n",
              "      <td>-0.006193</td>\n",
              "      <td>0.277814</td>\n",
              "      <td>0.056149</td>\n",
              "      <td>0.006872</td>\n",
              "      <td>0.055402</td>\n",
              "      <td>-0.041270</td>\n",
              "    </tr>\n",
              "    <tr>\n",
              "      <th>cons_last_month</th>\n",
              "      <td>0.418989</td>\n",
              "      <td>1.000000</td>\n",
              "      <td>0.126574</td>\n",
              "      <td>-0.042550</td>\n",
              "      <td>0.079918</td>\n",
              "      <td>-0.038886</td>\n",
              "      <td>0.119828</td>\n",
              "      <td>-0.031563</td>\n",
              "      <td>0.148808</td>\n",
              "      <td>-0.062472</td>\n",
              "      <td>-0.041428</td>\n",
              "      <td>0.355390</td>\n",
              "      <td>0.088516</td>\n",
              "      <td>0.055256</td>\n",
              "      <td>0.092645</td>\n",
              "      <td>-0.049490</td>\n",
              "    </tr>\n",
              "    <tr>\n",
              "      <th>forecast_cons_12m</th>\n",
              "      <td>0.054279</td>\n",
              "      <td>0.126574</td>\n",
              "      <td>1.000000</td>\n",
              "      <td>0.015344</td>\n",
              "      <td>0.400202</td>\n",
              "      <td>-0.239404</td>\n",
              "      <td>0.244272</td>\n",
              "      <td>0.029635</td>\n",
              "      <td>0.740817</td>\n",
              "      <td>-0.173927</td>\n",
              "      <td>-0.124941</td>\n",
              "      <td>0.015443</td>\n",
              "      <td>0.748164</td>\n",
              "      <td>-0.035103</td>\n",
              "      <td>0.629031</td>\n",
              "      <td>0.015413</td>\n",
              "    </tr>\n",
              "    <tr>\n",
              "      <th>forecast_discount_energy</th>\n",
              "      <td>-0.013676</td>\n",
              "      <td>-0.042550</td>\n",
              "      <td>0.015344</td>\n",
              "      <td>1.000000</td>\n",
              "      <td>-0.020924</td>\n",
              "      <td>0.341542</td>\n",
              "      <td>0.047251</td>\n",
              "      <td>0.046080</td>\n",
              "      <td>0.010218</td>\n",
              "      <td>0.205761</td>\n",
              "      <td>0.154760</td>\n",
              "      <td>0.051527</td>\n",
              "      <td>0.028288</td>\n",
              "      <td>-0.078813</td>\n",
              "      <td>-0.021189</td>\n",
              "      <td>0.013628</td>\n",
              "    </tr>\n",
              "    <tr>\n",
              "      <th>forecast_meter_rent_12m</th>\n",
              "      <td>0.046125</td>\n",
              "      <td>0.079918</td>\n",
              "      <td>0.400202</td>\n",
              "      <td>-0.020924</td>\n",
              "      <td>1.000000</td>\n",
              "      <td>-0.611800</td>\n",
              "      <td>0.670447</td>\n",
              "      <td>-0.192784</td>\n",
              "      <td>0.304244</td>\n",
              "      <td>0.033990</td>\n",
              "      <td>0.047639</td>\n",
              "      <td>-0.012291</td>\n",
              "      <td>0.341294</td>\n",
              "      <td>-0.018376</td>\n",
              "      <td>0.619608</td>\n",
              "      <td>0.043569</td>\n",
              "    </tr>\n",
              "    <tr>\n",
              "      <th>forecast_price_energy_p1</th>\n",
              "      <td>-0.037550</td>\n",
              "      <td>-0.038886</td>\n",
              "      <td>-0.239404</td>\n",
              "      <td>0.341542</td>\n",
              "      <td>-0.611800</td>\n",
              "      <td>1.000000</td>\n",
              "      <td>-0.417947</td>\n",
              "      <td>0.437707</td>\n",
              "      <td>-0.179094</td>\n",
              "      <td>0.200525</td>\n",
              "      <td>0.010534</td>\n",
              "      <td>0.017240</td>\n",
              "      <td>-0.176826</td>\n",
              "      <td>-0.046347</td>\n",
              "      <td>-0.380166</td>\n",
              "      <td>-0.016624</td>\n",
              "    </tr>\n",
              "    <tr>\n",
              "      <th>forecast_price_energy_p2</th>\n",
              "      <td>0.072812</td>\n",
              "      <td>0.119828</td>\n",
              "      <td>0.244272</td>\n",
              "      <td>0.047251</td>\n",
              "      <td>0.670447</td>\n",
              "      <td>-0.417947</td>\n",
              "      <td>1.000000</td>\n",
              "      <td>-0.333734</td>\n",
              "      <td>0.211954</td>\n",
              "      <td>0.088159</td>\n",
              "      <td>0.096329</td>\n",
              "      <td>0.026163</td>\n",
              "      <td>0.244107</td>\n",
              "      <td>0.020317</td>\n",
              "      <td>0.360548</td>\n",
              "      <td>0.029638</td>\n",
              "    </tr>\n",
              "    <tr>\n",
              "      <th>forecast_price_pow_p1</th>\n",
              "      <td>-0.036768</td>\n",
              "      <td>-0.031563</td>\n",
              "      <td>0.029635</td>\n",
              "      <td>0.046080</td>\n",
              "      <td>-0.192784</td>\n",
              "      <td>0.437707</td>\n",
              "      <td>-0.333734</td>\n",
              "      <td>1.000000</td>\n",
              "      <td>0.032967</td>\n",
              "      <td>-0.031702</td>\n",
              "      <td>-0.083903</td>\n",
              "      <td>-0.015035</td>\n",
              "      <td>-0.015905</td>\n",
              "      <td>-0.023302</td>\n",
              "      <td>-0.015028</td>\n",
              "      <td>-0.003669</td>\n",
              "    </tr>\n",
              "    <tr>\n",
              "      <th>imp_cons</th>\n",
              "      <td>0.061986</td>\n",
              "      <td>0.148808</td>\n",
              "      <td>0.740817</td>\n",
              "      <td>0.010218</td>\n",
              "      <td>0.304244</td>\n",
              "      <td>-0.179094</td>\n",
              "      <td>0.211954</td>\n",
              "      <td>0.032967</td>\n",
              "      <td>1.000000</td>\n",
              "      <td>-0.116481</td>\n",
              "      <td>-0.081794</td>\n",
              "      <td>0.023433</td>\n",
              "      <td>0.520981</td>\n",
              "      <td>-0.021673</td>\n",
              "      <td>0.449289</td>\n",
              "      <td>0.011387</td>\n",
              "    </tr>\n",
              "    <tr>\n",
              "      <th>margin_gross_pow_ele</th>\n",
              "      <td>-0.016293</td>\n",
              "      <td>-0.062472</td>\n",
              "      <td>-0.173927</td>\n",
              "      <td>0.205761</td>\n",
              "      <td>0.033990</td>\n",
              "      <td>0.200525</td>\n",
              "      <td>0.088159</td>\n",
              "      <td>-0.031702</td>\n",
              "      <td>-0.116481</td>\n",
              "      <td>1.000000</td>\n",
              "      <td>0.730301</td>\n",
              "      <td>-0.046423</td>\n",
              "      <td>-0.079458</td>\n",
              "      <td>-0.033774</td>\n",
              "      <td>0.046753</td>\n",
              "      <td>0.084871</td>\n",
              "    </tr>\n",
              "    <tr>\n",
              "      <th>margin_net_pow_ele</th>\n",
              "      <td>-0.006193</td>\n",
              "      <td>-0.041428</td>\n",
              "      <td>-0.124941</td>\n",
              "      <td>0.154760</td>\n",
              "      <td>0.047639</td>\n",
              "      <td>0.010534</td>\n",
              "      <td>0.096329</td>\n",
              "      <td>-0.083903</td>\n",
              "      <td>-0.081794</td>\n",
              "      <td>0.730301</td>\n",
              "      <td>1.000000</td>\n",
              "      <td>-0.031972</td>\n",
              "      <td>-0.068707</td>\n",
              "      <td>0.013699</td>\n",
              "      <td>0.050572</td>\n",
              "      <td>0.063029</td>\n",
              "    </tr>\n",
              "    <tr>\n",
              "      <th>nb_prod_act</th>\n",
              "      <td>0.277814</td>\n",
              "      <td>0.355390</td>\n",
              "      <td>0.015443</td>\n",
              "      <td>0.051527</td>\n",
              "      <td>-0.012291</td>\n",
              "      <td>0.017240</td>\n",
              "      <td>0.026163</td>\n",
              "      <td>-0.015035</td>\n",
              "      <td>0.023433</td>\n",
              "      <td>-0.046423</td>\n",
              "      <td>-0.031972</td>\n",
              "      <td>1.000000</td>\n",
              "      <td>0.003941</td>\n",
              "      <td>0.018270</td>\n",
              "      <td>-0.004329</td>\n",
              "      <td>-0.023894</td>\n",
              "    </tr>\n",
              "    <tr>\n",
              "      <th>net_margin</th>\n",
              "      <td>0.056149</td>\n",
              "      <td>0.088516</td>\n",
              "      <td>0.748164</td>\n",
              "      <td>0.028288</td>\n",
              "      <td>0.341294</td>\n",
              "      <td>-0.176826</td>\n",
              "      <td>0.244107</td>\n",
              "      <td>-0.015905</td>\n",
              "      <td>0.520981</td>\n",
              "      <td>-0.079458</td>\n",
              "      <td>-0.068707</td>\n",
              "      <td>0.003941</td>\n",
              "      <td>1.000000</td>\n",
              "      <td>-0.052220</td>\n",
              "      <td>0.465872</td>\n",
              "      <td>0.038452</td>\n",
              "    </tr>\n",
              "    <tr>\n",
              "      <th>num_years_antig</th>\n",
              "      <td>0.006872</td>\n",
              "      <td>0.055256</td>\n",
              "      <td>-0.035103</td>\n",
              "      <td>-0.078813</td>\n",
              "      <td>-0.018376</td>\n",
              "      <td>-0.046347</td>\n",
              "      <td>0.020317</td>\n",
              "      <td>-0.023302</td>\n",
              "      <td>-0.021673</td>\n",
              "      <td>-0.033774</td>\n",
              "      <td>0.013699</td>\n",
              "      <td>0.018270</td>\n",
              "      <td>-0.052220</td>\n",
              "      <td>1.000000</td>\n",
              "      <td>-0.031381</td>\n",
              "      <td>-0.086098</td>\n",
              "    </tr>\n",
              "    <tr>\n",
              "      <th>pow_max</th>\n",
              "      <td>0.055402</td>\n",
              "      <td>0.092645</td>\n",
              "      <td>0.629031</td>\n",
              "      <td>-0.021189</td>\n",
              "      <td>0.619608</td>\n",
              "      <td>-0.380166</td>\n",
              "      <td>0.360548</td>\n",
              "      <td>-0.015028</td>\n",
              "      <td>0.449289</td>\n",
              "      <td>0.046753</td>\n",
              "      <td>0.050572</td>\n",
              "      <td>-0.004329</td>\n",
              "      <td>0.465872</td>\n",
              "      <td>-0.031381</td>\n",
              "      <td>1.000000</td>\n",
              "      <td>0.027121</td>\n",
              "    </tr>\n",
              "    <tr>\n",
              "      <th>churn</th>\n",
              "      <td>-0.041270</td>\n",
              "      <td>-0.049490</td>\n",
              "      <td>0.015413</td>\n",
              "      <td>0.013628</td>\n",
              "      <td>0.043569</td>\n",
              "      <td>-0.016624</td>\n",
              "      <td>0.029638</td>\n",
              "      <td>-0.003669</td>\n",
              "      <td>0.011387</td>\n",
              "      <td>0.084871</td>\n",
              "      <td>0.063029</td>\n",
              "      <td>-0.023894</td>\n",
              "      <td>0.038452</td>\n",
              "      <td>-0.086098</td>\n",
              "      <td>0.027121</td>\n",
              "      <td>1.000000</td>\n",
              "    </tr>\n",
              "  </tbody>\n",
              "</table>\n",
              "</div>"
            ],
            "text/plain": [
              "                          cons_gas_12m  cons_last_month  ...   pow_max     churn\n",
              "cons_gas_12m                  1.000000         0.418989  ...  0.055402 -0.041270\n",
              "cons_last_month               0.418989         1.000000  ...  0.092645 -0.049490\n",
              "forecast_cons_12m             0.054279         0.126574  ...  0.629031  0.015413\n",
              "forecast_discount_energy     -0.013676        -0.042550  ... -0.021189  0.013628\n",
              "forecast_meter_rent_12m       0.046125         0.079918  ...  0.619608  0.043569\n",
              "forecast_price_energy_p1     -0.037550        -0.038886  ... -0.380166 -0.016624\n",
              "forecast_price_energy_p2      0.072812         0.119828  ...  0.360548  0.029638\n",
              "forecast_price_pow_p1        -0.036768        -0.031563  ... -0.015028 -0.003669\n",
              "imp_cons                      0.061986         0.148808  ...  0.449289  0.011387\n",
              "margin_gross_pow_ele         -0.016293        -0.062472  ...  0.046753  0.084871\n",
              "margin_net_pow_ele           -0.006193        -0.041428  ...  0.050572  0.063029\n",
              "nb_prod_act                   0.277814         0.355390  ... -0.004329 -0.023894\n",
              "net_margin                    0.056149         0.088516  ...  0.465872  0.038452\n",
              "num_years_antig               0.006872         0.055256  ... -0.031381 -0.086098\n",
              "pow_max                       0.055402         0.092645  ...  1.000000  0.027121\n",
              "churn                        -0.041270        -0.049490  ...  0.027121  1.000000\n",
              "\n",
              "[16 rows x 16 columns]"
            ]
          },
          "metadata": {
            "tags": []
          },
          "execution_count": 23
        }
      ]
    },
    {
      "cell_type": "code",
      "metadata": {
        "id": "Rg_5x40awexU"
      },
      "source": [
        "percent = df.churn.value_counts() / df.shape[0] * 100\n",
        "labels = ['No', 'Yes']"
      ],
      "execution_count": 24,
      "outputs": []
    },
    {
      "cell_type": "code",
      "metadata": {
        "colab": {
          "base_uri": "https://localhost:8080/",
          "height": 264
        },
        "id": "_FXlfu1VwexU",
        "outputId": "2930176f-6e81-448f-caf2-a86c5948cf5b"
      },
      "source": [
        "plt.pie(percent, labels=labels);\n",
        "plt.title('People churn?');"
      ],
      "execution_count": 25,
      "outputs": [
        {
          "output_type": "display_data",
          "data": {
            "image/png": "[encoded data removed]",
            "text/plain": [
              "<Figure size 432x288 with 1 Axes>"
            ]
          },
          "metadata": {
            "tags": []
          }
        }
      ]
    },
    {
      "cell_type": "markdown",
      "metadata": {
        "id": "hcWQJcwJwexU"
      },
      "source": [
        "Most people do not churn according to this pie chart."
      ]
    },
    {
      "cell_type": "code",
      "metadata": {
        "colab": {
          "base_uri": "https://localhost:8080/",
          "height": 268
        },
        "id": "FAlPQFmrwexU",
        "outputId": "e9788094-f8f6-41f6-ac93-6dd48e3a7d7e"
      },
      "source": [
        "plt.scatter(df.num_years_antig, df.churn);"
      ],
      "execution_count": 26,
      "outputs": [
        {
          "output_type": "display_data",
          "data": {
            "image/png": "[encoded data removed]",
            "text/plain": [
              "<Figure size 432x288 with 1 Axes>"
            ]
          },
          "metadata": {
            "tags": [],
            "needs_background": "light"
          }
        }
      ]
    },
    {
      "cell_type": "markdown",
      "metadata": {
        "id": "q0tQl-juwexV"
      },
      "source": [
        "People who spend more than 8 years do not churn."
      ]
    },
    {
      "cell_type": "markdown",
      "metadata": {
        "id": "Iz9F-LlfwexV"
      },
      "source": [
        "We will map the values of has_gas to 0 and 1 to become more clear."
      ]
    },
    {
      "cell_type": "code",
      "metadata": {
        "id": "U-HtWVYewexV"
      },
      "source": [
        "df.has_gas = df.has_gas.map({'t' : '1', 'f' : '0'})"
      ],
      "execution_count": 27,
      "outputs": []
    },
    {
      "cell_type": "code",
      "metadata": {
        "colab": {
          "base_uri": "https://localhost:8080/"
        },
        "id": "DUud-H6ZwexV",
        "outputId": "563a402c-af58-4a4b-a0cf-29a0abb6c501"
      },
      "source": [
        "df.has_gas.value_counts()"
      ],
      "execution_count": 28,
      "outputs": [
        {
          "output_type": "execute_result",
          "data": {
            "text/plain": [
              "0    9495\n",
              "1    2025\n",
              "Name: has_gas, dtype: int64"
            ]
          },
          "metadata": {
            "tags": []
          },
          "execution_count": 28
        }
      ]
    },
    {
      "cell_type": "markdown",
      "metadata": {
        "id": "xeuYFcSIwexW"
      },
      "source": [
        "Now, we will change the type to int."
      ]
    },
    {
      "cell_type": "code",
      "metadata": {
        "id": "RZogPeefwexW"
      },
      "source": [
        "df.has_gas = df.has_gas.astype('int32')"
      ],
      "execution_count": 29,
      "outputs": []
    },
    {
      "cell_type": "code",
      "metadata": {
        "colab": {
          "base_uri": "https://localhost:8080/",
          "height": 268
        },
        "id": "WOoEgZBlwexW",
        "outputId": "913a35d3-7d18-4a01-aace-85b211cd57d7"
      },
      "source": [
        "plt.scatter(df.churn, df.imp_cons);"
      ],
      "execution_count": 30,
      "outputs": [
        {
          "output_type": "display_data",
          "data": {
            "image/png": "[encoded data removed]",
            "text/plain": [
              "<Figure size 432x288 with 1 Axes>"
            ]
          },
          "metadata": {
            "tags": [],
            "needs_background": "light"
          }
        }
      ]
    },
    {
      "cell_type": "markdown",
      "metadata": {
        "id": "XcjF2_B0wexW"
      },
      "source": [
        "We notice here that people who have currently paid consuptions between 4000 and 11000 do not churn."
      ]
    },
    {
      "cell_type": "markdown",
      "metadata": {
        "id": "VsVflWCewexW"
      },
      "source": [
        "# Feature Engineering"
      ]
    },
    {
      "cell_type": "markdown",
      "metadata": {
        "id": "hV9TD1NuwexX"
      },
      "source": [
        "According to the correlation matrix, features num_years_antig, margin_gross_pow_ele, and margin_net_pow_ele seem to have the highest correlations with the output."
      ]
    },
    {
      "cell_type": "code",
      "metadata": {
        "id": "dfd-xqiN592J"
      },
      "source": [
        "df.has_gas = df.has_gas.astype('int32')"
      ],
      "execution_count": 31,
      "outputs": []
    },
    {
      "cell_type": "markdown",
      "metadata": {
        "id": "YT-xZl_C3D_B"
      },
      "source": [
        "## One-Hot Encoding"
      ]
    },
    {
      "cell_type": "markdown",
      "metadata": {
        "id": "ogu7Fdh33cLE"
      },
      "source": [
        "We have a few object features that have to be encoded."
      ]
    },
    {
      "cell_type": "code",
      "metadata": {
        "colab": {
          "base_uri": "https://localhost:8080/"
        },
        "id": "d8041o3X4v6K",
        "outputId": "0c5b446f-e2d5-4434-b3b4-e8c131ec1a27"
      },
      "source": [
        "df.channel_sales.value_counts()"
      ],
      "execution_count": 32,
      "outputs": [
        {
          "output_type": "execute_result",
          "data": {
            "text/plain": [
              "foosdfpfkusacimwkcsosbicdxkicaua    7113\n",
              "lmkebamcaaclubfxadlmueccxoimlema    2038\n",
              "usilxuppasemubllopkaafesmlibmsdf    1412\n",
              "ewpakwlliwisiwduibdlfmalxowmwpci     943\n",
              "sddiedcslfslkckwlfkdpoeeailfpeds      10\n",
              "epumfxlbckeskwekxbiuasklxalciiuu       4\n",
              "Name: channel_sales, dtype: int64"
            ]
          },
          "metadata": {
            "tags": []
          },
          "execution_count": 32
        }
      ]
    },
    {
      "cell_type": "code",
      "metadata": {
        "id": "aJqBW1zI3NsN"
      },
      "source": [
        "df[['epu', 'ewp', 'foo', 'lmk', 'sdd', 'usi']] = pd.get_dummies(df.channel_sales)\n",
        "df.drop('channel_sales', axis=1, inplace=True)"
      ],
      "execution_count": 33,
      "outputs": []
    },
    {
      "cell_type": "code",
      "metadata": {
        "colab": {
          "base_uri": "https://localhost:8080/"
        },
        "id": "Cm5UHiS15a89",
        "outputId": "92772c2d-810f-4674-a04f-8b84224a66a2"
      },
      "source": [
        "df.origin_up.value_counts()"
      ],
      "execution_count": 34,
      "outputs": [
        {
          "output_type": "execute_result",
          "data": {
            "text/plain": [
              "lxidpiddsbxsbosboudacockeimpuepw    6879\n",
              "kamkkxfxxuwbdslkwifmmcsiusiuosws    2857\n",
              "ldkssxwpmemidmecebumciepifcamkci    1783\n",
              "usapbepcfoloekilkwsdiboslwaxobdp       1\n",
              "Name: origin_up, dtype: int64"
            ]
          },
          "metadata": {
            "tags": []
          },
          "execution_count": 34
        }
      ]
    },
    {
      "cell_type": "code",
      "metadata": {
        "id": "VTF0E6za6LCL"
      },
      "source": [
        "df[['kam', 'ldk', 'lxi', 'usa']] = pd.get_dummies(df.origin_up)\n",
        "df.drop('origin_up', axis=1, inplace=True)"
      ],
      "execution_count": 35,
      "outputs": []
    },
    {
      "cell_type": "code",
      "metadata": {
        "id": "6S53V47M7wRA"
      },
      "source": [
        "df.drop('id', axis=1, inplace=True)"
      ],
      "execution_count": 36,
      "outputs": []
    },
    {
      "cell_type": "markdown",
      "metadata": {
        "id": "06IXqQmMwexX"
      },
      "source": [
        "# Modeling and Evaluation"
      ]
    },
    {
      "cell_type": "code",
      "metadata": {
        "id": "W338C1crwexX"
      },
      "source": [
        "from sklearn.model_selection import train_test_split\n",
        "from sklearn import svm"
      ],
      "execution_count": 37,
      "outputs": []
    },
    {
      "cell_type": "code",
      "metadata": {
        "id": "L4keaB1XzGHs"
      },
      "source": [
        "y = np.array(df.churn)\n",
        "x = np.array(df.drop('churn', axis=1))\n",
        "\n",
        "x_train, x_test, y_train, y_test = train_test_split(x, y, test_size=0.2)"
      ],
      "execution_count": 38,
      "outputs": []
    },
    {
      "cell_type": "code",
      "metadata": {
        "id": "buUYkwPd027d"
      },
      "source": [
        "model = svm.SVC(C=2, degree=3, kernel='poly')\n",
        "trained_model = model.fit(x_train, y_train)"
      ],
      "execution_count": 59,
      "outputs": []
    },
    {
      "cell_type": "code",
      "metadata": {
        "colab": {
          "base_uri": "https://localhost:8080/"
        },
        "id": "1-d-FPGcUf3r",
        "outputId": "e4043907-972b-4df3-ce8e-96031a783a5c"
      },
      "source": [
        "trained_model"
      ],
      "execution_count": 60,
      "outputs": [
        {
          "output_type": "execute_result",
          "data": {
            "text/plain": [
              "SVC(C=2, break_ties=False, cache_size=200, class_weight=None, coef0=0.0,\n",
              "    decision_function_shape='ovr', degree=3, gamma='scale', kernel='poly',\n",
              "    max_iter=-1, probability=False, random_state=None, shrinking=True,\n",
              "    tol=0.001, verbose=False)"
            ]
          },
          "metadata": {
            "tags": []
          },
          "execution_count": 60
        }
      ]
    },
    {
      "cell_type": "code",
      "metadata": {
        "colab": {
          "base_uri": "https://localhost:8080/"
        },
        "id": "7n41Eu5P1P2U",
        "outputId": "228a6013-a7a6-47e9-f322-f35723e815ee"
      },
      "source": [
        "trained_model.score(x_test, y_test)"
      ],
      "execution_count": 61,
      "outputs": [
        {
          "output_type": "execute_result",
          "data": {
            "text/plain": [
              "0.8901909722222222"
            ]
          },
          "metadata": {
            "tags": []
          },
          "execution_count": 61
        }
      ]
    },
    {
      "cell_type": "markdown",
      "metadata": {
        "id": "1zmaQiVxp1Gb"
      },
      "source": [
        "As we see here, a better model should be used since svm only provided us with 89% test accuracy."
      ]
    },
    {
      "cell_type": "code",
      "metadata": {
        "id": "D7uGcONg8CiC"
      },
      "source": [
        ""
      ],
      "execution_count": null,
      "outputs": []
    },
    {
      "cell_type": "code",
      "metadata": {
        "id": "EYPcK2SgARna"
      },
      "source": [
        ""
      ],
      "execution_count": null,
      "outputs": []
    }
  ]
}